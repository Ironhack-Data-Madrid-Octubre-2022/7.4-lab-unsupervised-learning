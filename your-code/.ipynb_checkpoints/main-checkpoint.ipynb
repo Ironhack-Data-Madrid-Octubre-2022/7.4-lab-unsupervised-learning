{
 "cells": [
  {
   "cell_type": "markdown",
   "metadata": {
    "toc": true
   },
   "source": [
    "<h1>Table of Contents<span class=\"tocSkip\"></span></h1>\n",
    "<div class=\"toc\"><ul class=\"toc-item\"><li><span><a href=\"#Before-your-start:\" data-toc-modified-id=\"Before-your-start:-1\"><span class=\"toc-item-num\">1&nbsp;&nbsp;</span>Before your start:</a></span></li><li><span><a href=\"#Challenge-1---Import-and-Describe-the-Dataset\" data-toc-modified-id=\"Challenge-1---Import-and-Describe-the-Dataset-2\"><span class=\"toc-item-num\">2&nbsp;&nbsp;</span>Challenge 1 - Import and Describe the Dataset</a></span><ul class=\"toc-item\"><li><ul class=\"toc-item\"><li><ul class=\"toc-item\"><li><span><a href=\"#Explore-the-dataset-with-mathematical-and-visualization-techniques.-What-do-you-find?\" data-toc-modified-id=\"Explore-the-dataset-with-mathematical-and-visualization-techniques.-What-do-you-find?-2.0.0.1\"><span class=\"toc-item-num\">2.0.0.1&nbsp;&nbsp;</span>Explore the dataset with mathematical and visualization techniques. What do you find?</a></span></li></ul></li></ul></li></ul></li><li><span><a href=\"#Challenge-2---Data-Cleaning-and-Transformation\" data-toc-modified-id=\"Challenge-2---Data-Cleaning-and-Transformation-3\"><span class=\"toc-item-num\">3&nbsp;&nbsp;</span>Challenge 2 - Data Cleaning and Transformation</a></span></li><li><span><a href=\"#Challenge-3---Data-Preprocessing\" data-toc-modified-id=\"Challenge-3---Data-Preprocessing-4\"><span class=\"toc-item-num\">4&nbsp;&nbsp;</span>Challenge 3 - Data Preprocessing</a></span><ul class=\"toc-item\"><li><ul class=\"toc-item\"><li><ul class=\"toc-item\"><li><span><a href=\"#We-will-use-the-StandardScaler-from-sklearn.preprocessing-and-scale-our-data.-Read-more-about-StandardScaler-here.\" data-toc-modified-id=\"We-will-use-the-StandardScaler-from-sklearn.preprocessing-and-scale-our-data.-Read-more-about-StandardScaler-here.-4.0.0.1\"><span class=\"toc-item-num\">4.0.0.1&nbsp;&nbsp;</span>We will use the <code>StandardScaler</code> from <code>sklearn.preprocessing</code> and scale our data. Read more about <code>StandardScaler</code> <a href=\"https://scikit-learn.org/stable/modules/generated/sklearn.preprocessing.StandardScaler.html#sklearn.preprocessing.StandardScaler\" target=\"_blank\">here</a>.</a></span></li></ul></li></ul></li></ul></li><li><span><a href=\"#Challenge-4---Data-Clustering-with-K-Means\" data-toc-modified-id=\"Challenge-4---Data-Clustering-with-K-Means-5\"><span class=\"toc-item-num\">5&nbsp;&nbsp;</span>Challenge 4 - Data Clustering with K-Means</a></span></li><li><span><a href=\"#Challenge-5---Data-Clustering-with-DBSCAN\" data-toc-modified-id=\"Challenge-5---Data-Clustering-with-DBSCAN-6\"><span class=\"toc-item-num\">6&nbsp;&nbsp;</span>Challenge 5 - Data Clustering with DBSCAN</a></span></li><li><span><a href=\"#Challenge-6---Compare-K-Means-with-DBSCAN\" data-toc-modified-id=\"Challenge-6---Compare-K-Means-with-DBSCAN-7\"><span class=\"toc-item-num\">7&nbsp;&nbsp;</span>Challenge 6 - Compare K-Means with DBSCAN</a></span></li><li><span><a href=\"#Bonus-Challenge-2---Changing-K-Means-Number-of-Clusters\" data-toc-modified-id=\"Bonus-Challenge-2---Changing-K-Means-Number-of-Clusters-8\"><span class=\"toc-item-num\">8&nbsp;&nbsp;</span>Bonus Challenge 2 - Changing K-Means Number of Clusters</a></span></li><li><span><a href=\"#Bonus-Challenge-3---Changing-DBSCAN-eps-and-min_samples\" data-toc-modified-id=\"Bonus-Challenge-3---Changing-DBSCAN-eps-and-min_samples-9\"><span class=\"toc-item-num\">9&nbsp;&nbsp;</span>Bonus Challenge 3 - Changing DBSCAN <code>eps</code> and <code>min_samples</code></a></span></li></ul></div>"
   ]
  },
  {
   "cell_type": "markdown",
   "metadata": {},
   "source": [
    "# Before your start:\n",
    "- Read the README.md file\n",
    "- Comment as much as you can and use the resources in the README.md file\n",
    "- Happy learning!"
   ]
  },
  {
   "cell_type": "code",
   "execution_count": 1,
   "metadata": {},
   "outputs": [],
   "source": [
    "# Import your libraries:\n",
    "\n",
    "%matplotlib inline\n",
    "\n",
    "import matplotlib.pyplot as plt\n",
    "import numpy as np\n",
    "import pandas as pd\n",
    "import seaborn as sns\n",
    "import warnings                                              \n",
    "from sklearn.exceptions import DataConversionWarning          \n",
    "warnings.filterwarnings(action='ignore', category=DataConversionWarning)"
   ]
  },
  {
   "cell_type": "markdown",
   "metadata": {},
   "source": [
    "# Challenge 1 - Import and Describe the Dataset\n",
    "\n",
    "In this lab, we will use a dataset containing information about customer preferences. We will look at how much each customer spends in a year on each subcategory in the grocery store and try to find similarities using clustering.\n",
    "\n",
    "The origin of the dataset is [here](https://archive.ics.uci.edu/ml/datasets/wholesale+customers)."
   ]
  },
  {
   "cell_type": "code",
   "execution_count": 2,
   "metadata": {
    "scrolled": true
   },
   "outputs": [
    {
     "data": {
      "text/html": [
       "<div>\n",
       "<style scoped>\n",
       "    .dataframe tbody tr th:only-of-type {\n",
       "        vertical-align: middle;\n",
       "    }\n",
       "\n",
       "    .dataframe tbody tr th {\n",
       "        vertical-align: top;\n",
       "    }\n",
       "\n",
       "    .dataframe thead th {\n",
       "        text-align: right;\n",
       "    }\n",
       "</style>\n",
       "<table border=\"1\" class=\"dataframe\">\n",
       "  <thead>\n",
       "    <tr style=\"text-align: right;\">\n",
       "      <th></th>\n",
       "      <th>Channel</th>\n",
       "      <th>Region</th>\n",
       "      <th>Fresh</th>\n",
       "      <th>Milk</th>\n",
       "      <th>Grocery</th>\n",
       "      <th>Frozen</th>\n",
       "      <th>Detergents_Paper</th>\n",
       "      <th>Delicassen</th>\n",
       "    </tr>\n",
       "  </thead>\n",
       "  <tbody>\n",
       "    <tr>\n",
       "      <th>0</th>\n",
       "      <td>2</td>\n",
       "      <td>3</td>\n",
       "      <td>12669</td>\n",
       "      <td>9656</td>\n",
       "      <td>7561</td>\n",
       "      <td>214</td>\n",
       "      <td>2674</td>\n",
       "      <td>1338</td>\n",
       "    </tr>\n",
       "    <tr>\n",
       "      <th>1</th>\n",
       "      <td>2</td>\n",
       "      <td>3</td>\n",
       "      <td>7057</td>\n",
       "      <td>9810</td>\n",
       "      <td>9568</td>\n",
       "      <td>1762</td>\n",
       "      <td>3293</td>\n",
       "      <td>1776</td>\n",
       "    </tr>\n",
       "    <tr>\n",
       "      <th>2</th>\n",
       "      <td>2</td>\n",
       "      <td>3</td>\n",
       "      <td>6353</td>\n",
       "      <td>8808</td>\n",
       "      <td>7684</td>\n",
       "      <td>2405</td>\n",
       "      <td>3516</td>\n",
       "      <td>7844</td>\n",
       "    </tr>\n",
       "    <tr>\n",
       "      <th>3</th>\n",
       "      <td>1</td>\n",
       "      <td>3</td>\n",
       "      <td>13265</td>\n",
       "      <td>1196</td>\n",
       "      <td>4221</td>\n",
       "      <td>6404</td>\n",
       "      <td>507</td>\n",
       "      <td>1788</td>\n",
       "    </tr>\n",
       "    <tr>\n",
       "      <th>4</th>\n",
       "      <td>2</td>\n",
       "      <td>3</td>\n",
       "      <td>22615</td>\n",
       "      <td>5410</td>\n",
       "      <td>7198</td>\n",
       "      <td>3915</td>\n",
       "      <td>1777</td>\n",
       "      <td>5185</td>\n",
       "    </tr>\n",
       "  </tbody>\n",
       "</table>\n",
       "</div>"
      ],
      "text/plain": [
       "   Channel  Region  Fresh  Milk  Grocery  Frozen  Detergents_Paper  Delicassen\n",
       "0        2       3  12669  9656     7561     214              2674        1338\n",
       "1        2       3   7057  9810     9568    1762              3293        1776\n",
       "2        2       3   6353  8808     7684    2405              3516        7844\n",
       "3        1       3  13265  1196     4221    6404               507        1788\n",
       "4        2       3  22615  5410     7198    3915              1777        5185"
      ]
     },
     "execution_count": 2,
     "metadata": {},
     "output_type": "execute_result"
    }
   ],
   "source": [
    "# loading the data:\n",
    "customers = pd.read_csv('../../7.4-lab-unsupervised-learning/data/Wholesale customers data.csv')\n",
    "customers.head()"
   ]
  },
  {
   "cell_type": "code",
   "execution_count": 3,
   "metadata": {},
   "outputs": [
    {
     "name": "stdout",
     "output_type": "stream",
     "text": [
      "<class 'pandas.core.frame.DataFrame'>\n",
      "RangeIndex: 440 entries, 0 to 439\n",
      "Data columns (total 8 columns):\n",
      " #   Column            Non-Null Count  Dtype\n",
      "---  ------            --------------  -----\n",
      " 0   Channel           440 non-null    int64\n",
      " 1   Region            440 non-null    int64\n",
      " 2   Fresh             440 non-null    int64\n",
      " 3   Milk              440 non-null    int64\n",
      " 4   Grocery           440 non-null    int64\n",
      " 5   Frozen            440 non-null    int64\n",
      " 6   Detergents_Paper  440 non-null    int64\n",
      " 7   Delicassen        440 non-null    int64\n",
      "dtypes: int64(8)\n",
      "memory usage: 27.6 KB\n"
     ]
    }
   ],
   "source": [
    "customers.info()"
   ]
  },
  {
   "cell_type": "code",
   "execution_count": 4,
   "metadata": {},
   "outputs": [
    {
     "data": {
      "image/png": "[encoded data removed]",
      "text/plain": [
       "<Figure size 720x360 with 2 Axes>"
      ]
     },
     "metadata": {
      "needs_background": "light"
     },
     "output_type": "display_data"
    }
   ],
   "source": [
    "plt.figure(figsize=(10, 5))\n",
    "\n",
    "sns.set(style='white')\n",
    "\n",
    "mask = np.triu(np.ones_like(customers.corr(), dtype = bool))\n",
    "\n",
    "cmap = sns.diverging_palette(0, 10, as_cmap = True)\n",
    "\n",
    "\n",
    "sns.heatmap(customers.corr(),\n",
    "          mask=mask,\n",
    "          cmap=cmap,\n",
    "          center=0,\n",
    "          square=True,\n",
    "          annot=True,\n",
    "          linewidths=0.5,\n",
    "          cbar_kws={'shrink': 0.5});"
   ]
  },
  {
   "cell_type": "code",
   "execution_count": 5,
   "metadata": {},
   "outputs": [],
   "source": [
    "# High correlation between Grocery & Detergents_paper"
   ]
  },
  {
   "cell_type": "markdown",
   "metadata": {},
   "source": [
    "#### Explore the dataset with mathematical and visualization techniques. What do you find?\n",
    "\n",
    "Checklist:\n",
    "\n",
    "* What does each column mean?\n",
    "* Any categorical data to convert?\n",
    "* Any missing data to remove?\n",
    "* Column collinearity - any high correlations?\n",
    "* Descriptive statistics - any outliers to remove?\n",
    "* Column-wise data distribution - is the distribution skewed?\n",
    "* Etc.\n",
    "\n",
    "Additional info: Over a century ago, an Italian economist named Vilfredo Pareto discovered that roughly 20% of the customers account for 80% of the typical retail sales. This is called the [Pareto principle](https://en.wikipedia.org/wiki/Pareto_principle). Check if this dataset displays this characteristic."
   ]
  },
  {
   "cell_type": "code",
   "execution_count": 6,
   "metadata": {},
   "outputs": [
    {
     "data": {
      "text/plain": [
       "Index(['Channel', 'Region', 'Fresh', 'Milk', 'Grocery', 'Frozen',\n",
       "       'Detergents_Paper', 'Delicassen'],\n",
       "      dtype='object')"
      ]
     },
     "execution_count": 6,
     "metadata": {},
     "output_type": "execute_result"
    }
   ],
   "source": [
    "# Your code here:\n",
    "customers.columns   # se observan las columnas"
   ]
  },
  {
   "cell_type": "code",
   "execution_count": 7,
   "metadata": {
    "scrolled": true
   },
   "outputs": [
    {
     "data": {
      "text/html": [
       "<div>\n",
       "<style scoped>\n",
       "    .dataframe tbody tr th:only-of-type {\n",
       "        vertical-align: middle;\n",
       "    }\n",
       "\n",
       "    .dataframe tbody tr th {\n",
       "        vertical-align: top;\n",
       "    }\n",
       "\n",
       "    .dataframe thead th {\n",
       "        text-align: right;\n",
       "    }\n",
       "</style>\n",
       "<table border=\"1\" class=\"dataframe\">\n",
       "  <thead>\n",
       "    <tr style=\"text-align: right;\">\n",
       "      <th></th>\n",
       "      <th>count</th>\n",
       "      <th>mean</th>\n",
       "      <th>std</th>\n",
       "      <th>min</th>\n",
       "      <th>25%</th>\n",
       "      <th>50%</th>\n",
       "      <th>75%</th>\n",
       "      <th>max</th>\n",
       "      <th>IQR</th>\n",
       "    </tr>\n",
       "  </thead>\n",
       "  <tbody>\n",
       "    <tr>\n",
       "      <th>Channel</th>\n",
       "      <td>440.0</td>\n",
       "      <td>1.322727</td>\n",
       "      <td>0.468052</td>\n",
       "      <td>1.0</td>\n",
       "      <td>1.00</td>\n",
       "      <td>1.0</td>\n",
       "      <td>2.00</td>\n",
       "      <td>2.0</td>\n",
       "      <td>1.00</td>\n",
       "    </tr>\n",
       "    <tr>\n",
       "      <th>Region</th>\n",
       "      <td>440.0</td>\n",
       "      <td>2.543182</td>\n",
       "      <td>0.774272</td>\n",
       "      <td>1.0</td>\n",
       "      <td>2.00</td>\n",
       "      <td>3.0</td>\n",
       "      <td>3.00</td>\n",
       "      <td>3.0</td>\n",
       "      <td>1.00</td>\n",
       "    </tr>\n",
       "    <tr>\n",
       "      <th>Fresh</th>\n",
       "      <td>440.0</td>\n",
       "      <td>12000.297727</td>\n",
       "      <td>12647.328865</td>\n",
       "      <td>3.0</td>\n",
       "      <td>3127.75</td>\n",
       "      <td>8504.0</td>\n",
       "      <td>16933.75</td>\n",
       "      <td>112151.0</td>\n",
       "      <td>13806.00</td>\n",
       "    </tr>\n",
       "    <tr>\n",
       "      <th>Milk</th>\n",
       "      <td>440.0</td>\n",
       "      <td>5796.265909</td>\n",
       "      <td>7380.377175</td>\n",
       "      <td>55.0</td>\n",
       "      <td>1533.00</td>\n",
       "      <td>3627.0</td>\n",
       "      <td>7190.25</td>\n",
       "      <td>73498.0</td>\n",
       "      <td>5657.25</td>\n",
       "    </tr>\n",
       "    <tr>\n",
       "      <th>Grocery</th>\n",
       "      <td>440.0</td>\n",
       "      <td>7951.277273</td>\n",
       "      <td>9503.162829</td>\n",
       "      <td>3.0</td>\n",
       "      <td>2153.00</td>\n",
       "      <td>4755.5</td>\n",
       "      <td>10655.75</td>\n",
       "      <td>92780.0</td>\n",
       "      <td>8502.75</td>\n",
       "    </tr>\n",
       "    <tr>\n",
       "      <th>Frozen</th>\n",
       "      <td>440.0</td>\n",
       "      <td>3071.931818</td>\n",
       "      <td>4854.673333</td>\n",
       "      <td>25.0</td>\n",
       "      <td>742.25</td>\n",
       "      <td>1526.0</td>\n",
       "      <td>3554.25</td>\n",
       "      <td>60869.0</td>\n",
       "      <td>2812.00</td>\n",
       "    </tr>\n",
       "    <tr>\n",
       "      <th>Detergents_Paper</th>\n",
       "      <td>440.0</td>\n",
       "      <td>2881.493182</td>\n",
       "      <td>4767.854448</td>\n",
       "      <td>3.0</td>\n",
       "      <td>256.75</td>\n",
       "      <td>816.5</td>\n",
       "      <td>3922.00</td>\n",
       "      <td>40827.0</td>\n",
       "      <td>3665.25</td>\n",
       "    </tr>\n",
       "    <tr>\n",
       "      <th>Delicassen</th>\n",
       "      <td>440.0</td>\n",
       "      <td>1524.870455</td>\n",
       "      <td>2820.105937</td>\n",
       "      <td>3.0</td>\n",
       "      <td>408.25</td>\n",
       "      <td>965.5</td>\n",
       "      <td>1820.25</td>\n",
       "      <td>47943.0</td>\n",
       "      <td>1412.00</td>\n",
       "    </tr>\n",
       "  </tbody>\n",
       "</table>\n",
       "</div>"
      ],
      "text/plain": [
       "                  count          mean           std   min      25%     50%  \\\n",
       "Channel           440.0      1.322727      0.468052   1.0     1.00     1.0   \n",
       "Region            440.0      2.543182      0.774272   1.0     2.00     3.0   \n",
       "Fresh             440.0  12000.297727  12647.328865   3.0  3127.75  8504.0   \n",
       "Milk              440.0   5796.265909   7380.377175  55.0  1533.00  3627.0   \n",
       "Grocery           440.0   7951.277273   9503.162829   3.0  2153.00  4755.5   \n",
       "Frozen            440.0   3071.931818   4854.673333  25.0   742.25  1526.0   \n",
       "Detergents_Paper  440.0   2881.493182   4767.854448   3.0   256.75   816.5   \n",
       "Delicassen        440.0   1524.870455   2820.105937   3.0   408.25   965.5   \n",
       "\n",
       "                       75%       max       IQR  \n",
       "Channel               2.00       2.0      1.00  \n",
       "Region                3.00       3.0      1.00  \n",
       "Fresh             16933.75  112151.0  13806.00  \n",
       "Milk               7190.25   73498.0   5657.25  \n",
       "Grocery           10655.75   92780.0   8502.75  \n",
       "Frozen             3554.25   60869.0   2812.00  \n",
       "Detergents_Paper   3922.00   40827.0   3665.25  \n",
       "Delicassen         1820.25   47943.0   1412.00  "
      ]
     },
     "execution_count": 7,
     "metadata": {},
     "output_type": "execute_result"
    }
   ],
   "source": [
    "stats = customers.describe().transpose()\n",
    "stats['IQR'] = stats['75%'] - stats['25%']\n",
    "stats"
   ]
  },
  {
   "cell_type": "code",
   "execution_count": 8,
   "metadata": {
    "scrolled": false
   },
   "outputs": [
    {
     "name": "stderr",
     "output_type": "stream",
     "text": [
      "/var/folders/xg/zzygkq9d4ln987pzc4b_8sw40000gn/T/ipykernel_4738/1336723798.py:11: FutureWarning: The frame.append method is deprecated and will be removed from pandas in a future version. Use pandas.concat instead.\n",
      "  outliers = outliers.append(results)\n",
      "/var/folders/xg/zzygkq9d4ln987pzc4b_8sw40000gn/T/ipykernel_4738/1336723798.py:11: FutureWarning: The frame.append method is deprecated and will be removed from pandas in a future version. Use pandas.concat instead.\n",
      "  outliers = outliers.append(results)\n",
      "/var/folders/xg/zzygkq9d4ln987pzc4b_8sw40000gn/T/ipykernel_4738/1336723798.py:11: FutureWarning: The frame.append method is deprecated and will be removed from pandas in a future version. Use pandas.concat instead.\n",
      "  outliers = outliers.append(results)\n",
      "/var/folders/xg/zzygkq9d4ln987pzc4b_8sw40000gn/T/ipykernel_4738/1336723798.py:11: FutureWarning: The frame.append method is deprecated and will be removed from pandas in a future version. Use pandas.concat instead.\n",
      "  outliers = outliers.append(results)\n",
      "/var/folders/xg/zzygkq9d4ln987pzc4b_8sw40000gn/T/ipykernel_4738/1336723798.py:11: FutureWarning: The frame.append method is deprecated and will be removed from pandas in a future version. Use pandas.concat instead.\n",
      "  outliers = outliers.append(results)\n",
      "/var/folders/xg/zzygkq9d4ln987pzc4b_8sw40000gn/T/ipykernel_4738/1336723798.py:11: FutureWarning: The frame.append method is deprecated and will be removed from pandas in a future version. Use pandas.concat instead.\n",
      "  outliers = outliers.append(results)\n",
      "/var/folders/xg/zzygkq9d4ln987pzc4b_8sw40000gn/T/ipykernel_4738/1336723798.py:11: FutureWarning: The frame.append method is deprecated and will be removed from pandas in a future version. Use pandas.concat instead.\n",
      "  outliers = outliers.append(results)\n",
      "/var/folders/xg/zzygkq9d4ln987pzc4b_8sw40000gn/T/ipykernel_4738/1336723798.py:11: FutureWarning: The frame.append method is deprecated and will be removed from pandas in a future version. Use pandas.concat instead.\n",
      "  outliers = outliers.append(results)\n"
     ]
    },
    {
     "data": {
      "text/html": [
       "<div>\n",
       "<style scoped>\n",
       "    .dataframe tbody tr th:only-of-type {\n",
       "        vertical-align: middle;\n",
       "    }\n",
       "\n",
       "    .dataframe tbody tr th {\n",
       "        vertical-align: top;\n",
       "    }\n",
       "\n",
       "    .dataframe thead th {\n",
       "        text-align: right;\n",
       "    }\n",
       "</style>\n",
       "<table border=\"1\" class=\"dataframe\">\n",
       "  <thead>\n",
       "    <tr style=\"text-align: right;\">\n",
       "      <th></th>\n",
       "      <th>Channel</th>\n",
       "      <th>Region</th>\n",
       "      <th>Fresh</th>\n",
       "      <th>Milk</th>\n",
       "      <th>Grocery</th>\n",
       "      <th>Frozen</th>\n",
       "      <th>Detergents_Paper</th>\n",
       "      <th>Delicassen</th>\n",
       "      <th>Outlier</th>\n",
       "    </tr>\n",
       "  </thead>\n",
       "  <tbody>\n",
       "    <tr>\n",
       "      <th>29</th>\n",
       "      <td>1</td>\n",
       "      <td>3</td>\n",
       "      <td>43088</td>\n",
       "      <td>2100</td>\n",
       "      <td>2609</td>\n",
       "      <td>1200</td>\n",
       "      <td>1107</td>\n",
       "      <td>823</td>\n",
       "      <td>Fresh</td>\n",
       "    </tr>\n",
       "    <tr>\n",
       "      <th>39</th>\n",
       "      <td>1</td>\n",
       "      <td>3</td>\n",
       "      <td>56159</td>\n",
       "      <td>555</td>\n",
       "      <td>902</td>\n",
       "      <td>10002</td>\n",
       "      <td>212</td>\n",
       "      <td>2916</td>\n",
       "      <td>Fresh</td>\n",
       "    </tr>\n",
       "    <tr>\n",
       "      <th>47</th>\n",
       "      <td>2</td>\n",
       "      <td>3</td>\n",
       "      <td>44466</td>\n",
       "      <td>54259</td>\n",
       "      <td>55571</td>\n",
       "      <td>7782</td>\n",
       "      <td>24171</td>\n",
       "      <td>6465</td>\n",
       "      <td>Fresh</td>\n",
       "    </tr>\n",
       "    <tr>\n",
       "      <th>52</th>\n",
       "      <td>2</td>\n",
       "      <td>3</td>\n",
       "      <td>40721</td>\n",
       "      <td>3916</td>\n",
       "      <td>5876</td>\n",
       "      <td>532</td>\n",
       "      <td>2587</td>\n",
       "      <td>1278</td>\n",
       "      <td>Fresh</td>\n",
       "    </tr>\n",
       "    <tr>\n",
       "      <th>87</th>\n",
       "      <td>1</td>\n",
       "      <td>3</td>\n",
       "      <td>43265</td>\n",
       "      <td>5025</td>\n",
       "      <td>8117</td>\n",
       "      <td>6312</td>\n",
       "      <td>1579</td>\n",
       "      <td>14351</td>\n",
       "      <td>Fresh</td>\n",
       "    </tr>\n",
       "    <tr>\n",
       "      <th>...</th>\n",
       "      <td>...</td>\n",
       "      <td>...</td>\n",
       "      <td>...</td>\n",
       "      <td>...</td>\n",
       "      <td>...</td>\n",
       "      <td>...</td>\n",
       "      <td>...</td>\n",
       "      <td>...</td>\n",
       "      <td>...</td>\n",
       "    </tr>\n",
       "    <tr>\n",
       "      <th>358</th>\n",
       "      <td>1</td>\n",
       "      <td>3</td>\n",
       "      <td>759</td>\n",
       "      <td>18664</td>\n",
       "      <td>1660</td>\n",
       "      <td>6114</td>\n",
       "      <td>536</td>\n",
       "      <td>4100</td>\n",
       "      <td>Delicassen</td>\n",
       "    </tr>\n",
       "    <tr>\n",
       "      <th>372</th>\n",
       "      <td>1</td>\n",
       "      <td>3</td>\n",
       "      <td>3884</td>\n",
       "      <td>3801</td>\n",
       "      <td>1641</td>\n",
       "      <td>876</td>\n",
       "      <td>397</td>\n",
       "      <td>4829</td>\n",
       "      <td>Delicassen</td>\n",
       "    </tr>\n",
       "    <tr>\n",
       "      <th>384</th>\n",
       "      <td>1</td>\n",
       "      <td>3</td>\n",
       "      <td>10683</td>\n",
       "      <td>21858</td>\n",
       "      <td>15400</td>\n",
       "      <td>3635</td>\n",
       "      <td>282</td>\n",
       "      <td>5120</td>\n",
       "      <td>Delicassen</td>\n",
       "    </tr>\n",
       "    <tr>\n",
       "      <th>409</th>\n",
       "      <td>1</td>\n",
       "      <td>3</td>\n",
       "      <td>8708</td>\n",
       "      <td>3634</td>\n",
       "      <td>6100</td>\n",
       "      <td>2349</td>\n",
       "      <td>2123</td>\n",
       "      <td>5137</td>\n",
       "      <td>Delicassen</td>\n",
       "    </tr>\n",
       "    <tr>\n",
       "      <th>411</th>\n",
       "      <td>1</td>\n",
       "      <td>3</td>\n",
       "      <td>2126</td>\n",
       "      <td>3289</td>\n",
       "      <td>3281</td>\n",
       "      <td>1535</td>\n",
       "      <td>235</td>\n",
       "      <td>4365</td>\n",
       "      <td>Delicassen</td>\n",
       "    </tr>\n",
       "  </tbody>\n",
       "</table>\n",
       "<p>172 rows × 9 columns</p>\n",
       "</div>"
      ],
      "text/plain": [
       "    Channel Region  Fresh   Milk Grocery Frozen Detergents_Paper Delicassen  \\\n",
       "29        1      3  43088   2100    2609   1200             1107        823   \n",
       "39        1      3  56159    555     902  10002              212       2916   \n",
       "47        2      3  44466  54259   55571   7782            24171       6465   \n",
       "52        2      3  40721   3916    5876    532             2587       1278   \n",
       "87        1      3  43265   5025    8117   6312             1579      14351   \n",
       "..      ...    ...    ...    ...     ...    ...              ...        ...   \n",
       "358       1      3    759  18664    1660   6114              536       4100   \n",
       "372       1      3   3884   3801    1641    876              397       4829   \n",
       "384       1      3  10683  21858   15400   3635              282       5120   \n",
       "409       1      3   8708   3634    6100   2349             2123       5137   \n",
       "411       1      3   2126   3289    3281   1535              235       4365   \n",
       "\n",
       "        Outlier  \n",
       "29        Fresh  \n",
       "39        Fresh  \n",
       "47        Fresh  \n",
       "52        Fresh  \n",
       "87        Fresh  \n",
       "..          ...  \n",
       "358  Delicassen  \n",
       "372  Delicassen  \n",
       "384  Delicassen  \n",
       "409  Delicassen  \n",
       "411  Delicassen  \n",
       "\n",
       "[172 rows x 9 columns]"
      ]
     },
     "execution_count": 8,
     "metadata": {},
     "output_type": "execute_result"
    }
   ],
   "source": [
    "outliers = pd.DataFrame(columns=customers.columns)\n",
    "\n",
    "for col in stats.index:\n",
    "    iqr = stats.at[col,'IQR']\n",
    "    cutoff = iqr * 1.5\n",
    "    lower = stats.at[col,'25%'] - cutoff\n",
    "    upper = stats.at[col,'75%'] + cutoff\n",
    "    results = customers[(customers[col] < lower) | \n",
    "                   (customers[col] > upper)].copy()\n",
    "    results['Outlier'] = col\n",
    "    outliers = outliers.append(results)\n",
    "    \n",
    "\n",
    "outliers"
   ]
  },
  {
   "cell_type": "code",
   "execution_count": 9,
   "metadata": {},
   "outputs": [
    {
     "data": {
      "text/plain": [
       "332"
      ]
     },
     "execution_count": 9,
     "metadata": {},
     "output_type": "execute_result"
    }
   ],
   "source": [
    "clean_index = [i for i in customers.index if i not in outliers.index]\n",
    "len(clean_index)"
   ]
  },
  {
   "cell_type": "code",
   "execution_count": 10,
   "metadata": {},
   "outputs": [
    {
     "data": {
      "text/plain": [
       "(440, 8)"
      ]
     },
     "execution_count": 10,
     "metadata": {},
     "output_type": "execute_result"
    }
   ],
   "source": [
    "customers.shape"
   ]
  },
  {
   "cell_type": "code",
   "execution_count": 11,
   "metadata": {},
   "outputs": [
    {
     "data": {
      "text/plain": [
       "(332, 8)"
      ]
     },
     "execution_count": 11,
     "metadata": {},
     "output_type": "execute_result"
    }
   ],
   "source": [
    "customers = customers.iloc[clean_index]\n",
    "\n",
    "customers.shape"
   ]
  },
  {
   "cell_type": "code",
   "execution_count": 12,
   "metadata": {
    "scrolled": true
   },
   "outputs": [
    {
     "data": {
      "text/html": [
       "<div>\n",
       "<style scoped>\n",
       "    .dataframe tbody tr th:only-of-type {\n",
       "        vertical-align: middle;\n",
       "    }\n",
       "\n",
       "    .dataframe tbody tr th {\n",
       "        vertical-align: top;\n",
       "    }\n",
       "\n",
       "    .dataframe thead th {\n",
       "        text-align: right;\n",
       "    }\n",
       "</style>\n",
       "<table border=\"1\" class=\"dataframe\">\n",
       "  <thead>\n",
       "    <tr style=\"text-align: right;\">\n",
       "      <th></th>\n",
       "      <th>Channel</th>\n",
       "      <th>Region</th>\n",
       "      <th>Fresh</th>\n",
       "      <th>Milk</th>\n",
       "      <th>Grocery</th>\n",
       "      <th>Frozen</th>\n",
       "      <th>Detergents_Paper</th>\n",
       "      <th>Delicassen</th>\n",
       "    </tr>\n",
       "  </thead>\n",
       "  <tbody>\n",
       "    <tr>\n",
       "      <th>0</th>\n",
       "      <td>2</td>\n",
       "      <td>3</td>\n",
       "      <td>12669</td>\n",
       "      <td>9656</td>\n",
       "      <td>7561</td>\n",
       "      <td>214</td>\n",
       "      <td>2674</td>\n",
       "      <td>1338</td>\n",
       "    </tr>\n",
       "    <tr>\n",
       "      <th>1</th>\n",
       "      <td>2</td>\n",
       "      <td>3</td>\n",
       "      <td>7057</td>\n",
       "      <td>9810</td>\n",
       "      <td>9568</td>\n",
       "      <td>1762</td>\n",
       "      <td>3293</td>\n",
       "      <td>1776</td>\n",
       "    </tr>\n",
       "    <tr>\n",
       "      <th>3</th>\n",
       "      <td>1</td>\n",
       "      <td>3</td>\n",
       "      <td>13265</td>\n",
       "      <td>1196</td>\n",
       "      <td>4221</td>\n",
       "      <td>6404</td>\n",
       "      <td>507</td>\n",
       "      <td>1788</td>\n",
       "    </tr>\n",
       "    <tr>\n",
       "      <th>5</th>\n",
       "      <td>2</td>\n",
       "      <td>3</td>\n",
       "      <td>9413</td>\n",
       "      <td>8259</td>\n",
       "      <td>5126</td>\n",
       "      <td>666</td>\n",
       "      <td>1795</td>\n",
       "      <td>1451</td>\n",
       "    </tr>\n",
       "    <tr>\n",
       "      <th>6</th>\n",
       "      <td>2</td>\n",
       "      <td>3</td>\n",
       "      <td>12126</td>\n",
       "      <td>3199</td>\n",
       "      <td>6975</td>\n",
       "      <td>480</td>\n",
       "      <td>3140</td>\n",
       "      <td>545</td>\n",
       "    </tr>\n",
       "  </tbody>\n",
       "</table>\n",
       "</div>"
      ],
      "text/plain": [
       "   Channel  Region  Fresh  Milk  Grocery  Frozen  Detergents_Paper  Delicassen\n",
       "0        2       3  12669  9656     7561     214              2674        1338\n",
       "1        2       3   7057  9810     9568    1762              3293        1776\n",
       "3        1       3  13265  1196     4221    6404               507        1788\n",
       "5        2       3   9413  8259     5126     666              1795        1451\n",
       "6        2       3  12126  3199     6975     480              3140         545"
      ]
     },
     "execution_count": 12,
     "metadata": {},
     "output_type": "execute_result"
    }
   ],
   "source": [
    "customers.head()"
   ]
  },
  {
   "cell_type": "code",
   "execution_count": 13,
   "metadata": {},
   "outputs": [
    {
     "data": {
      "image/png": "[encoded data removed]",
      "text/plain": [
       "<Figure size 720x360 with 2 Axes>"
      ]
     },
     "metadata": {},
     "output_type": "display_data"
    }
   ],
   "source": [
    "plt.figure(figsize=(10, 5))\n",
    "\n",
    "sns.set(style='white')\n",
    "\n",
    "mask = np.triu(np.ones_like(customers.corr(), dtype = bool))\n",
    "\n",
    "cmap = sns.diverging_palette(0, 10, as_cmap = True)\n",
    "\n",
    "\n",
    "sns.heatmap(customers.corr(),\n",
    "          mask=mask,\n",
    "          cmap=cmap,\n",
    "          center=0,\n",
    "          square=True,\n",
    "          annot=True,\n",
    "          linewidths=0.5,\n",
    "          cbar_kws={'shrink': 0.5});"
   ]
  },
  {
   "cell_type": "markdown",
   "metadata": {},
   "source": [
    "# Challenge 2 - Data Cleaning and Transformation\n",
    "\n",
    "If your conclusion from the previous challenge is the data need cleaning/transformation, do it in the cells below. However, if your conclusion is the data need not be cleaned or transformed, feel free to skip this challenge. But if you do choose the latter, please provide rationale."
   ]
  },
  {
   "cell_type": "markdown",
   "metadata": {},
   "source": [
    "**Your comment here**\n",
    "\n",
    "+ No need to do data cleaning, dataframe already cleaned above\n",
    "+ Collinearity paremeters acceptable"
   ]
  },
  {
   "cell_type": "markdown",
   "metadata": {},
   "source": [
    "# Challenge 3 - Data Preprocessing\n",
    "\n",
    "One problem with the dataset is the value ranges are remarkably different across various categories (e.g. `Fresh` and `Grocery` compared to `Detergents_Paper` and `Delicassen`). If you made this observation in the first challenge, you've done a great job! This means you not only completed the bonus questions in the previous Supervised Learning lab but also researched deep into [*feature scaling*](https://en.wikipedia.org/wiki/Feature_scaling). Keep on the good work!\n",
    "\n",
    "Diverse value ranges in different features could cause issues in our clustering. The way to reduce the problem is through feature scaling. We'll use this technique again with this dataset.\n",
    "\n",
    "#### We will use the `StandardScaler` from `sklearn.preprocessing` and scale our data. Read more about `StandardScaler` [here](https://scikit-learn.org/stable/modules/generated/sklearn.preprocessing.StandardScaler.html#sklearn.preprocessing.StandardScaler).\n",
    "\n",
    "*After scaling your data, assign the transformed data to a new variable `customers_scale`.*"
   ]
  },
  {
   "cell_type": "code",
   "execution_count": 14,
   "metadata": {},
   "outputs": [
    {
     "data": {
      "text/html": [
       "<div>\n",
       "<style scoped>\n",
       "    .dataframe tbody tr th:only-of-type {\n",
       "        vertical-align: middle;\n",
       "    }\n",
       "\n",
       "    .dataframe tbody tr th {\n",
       "        vertical-align: top;\n",
       "    }\n",
       "\n",
       "    .dataframe thead th {\n",
       "        text-align: right;\n",
       "    }\n",
       "</style>\n",
       "<table border=\"1\" class=\"dataframe\">\n",
       "  <thead>\n",
       "    <tr style=\"text-align: right;\">\n",
       "      <th></th>\n",
       "      <th>Channel</th>\n",
       "      <th>Region</th>\n",
       "      <th>Fresh</th>\n",
       "      <th>Milk</th>\n",
       "      <th>Grocery</th>\n",
       "      <th>Frozen</th>\n",
       "      <th>Detergents_Paper</th>\n",
       "      <th>Delicassen</th>\n",
       "    </tr>\n",
       "  </thead>\n",
       "  <tbody>\n",
       "    <tr>\n",
       "      <th>0</th>\n",
       "      <td>2</td>\n",
       "      <td>3</td>\n",
       "      <td>12669</td>\n",
       "      <td>9656</td>\n",
       "      <td>7561</td>\n",
       "      <td>214</td>\n",
       "      <td>2674</td>\n",
       "      <td>1338</td>\n",
       "    </tr>\n",
       "    <tr>\n",
       "      <th>1</th>\n",
       "      <td>2</td>\n",
       "      <td>3</td>\n",
       "      <td>7057</td>\n",
       "      <td>9810</td>\n",
       "      <td>9568</td>\n",
       "      <td>1762</td>\n",
       "      <td>3293</td>\n",
       "      <td>1776</td>\n",
       "    </tr>\n",
       "    <tr>\n",
       "      <th>3</th>\n",
       "      <td>1</td>\n",
       "      <td>3</td>\n",
       "      <td>13265</td>\n",
       "      <td>1196</td>\n",
       "      <td>4221</td>\n",
       "      <td>6404</td>\n",
       "      <td>507</td>\n",
       "      <td>1788</td>\n",
       "    </tr>\n",
       "    <tr>\n",
       "      <th>5</th>\n",
       "      <td>2</td>\n",
       "      <td>3</td>\n",
       "      <td>9413</td>\n",
       "      <td>8259</td>\n",
       "      <td>5126</td>\n",
       "      <td>666</td>\n",
       "      <td>1795</td>\n",
       "      <td>1451</td>\n",
       "    </tr>\n",
       "    <tr>\n",
       "      <th>6</th>\n",
       "      <td>2</td>\n",
       "      <td>3</td>\n",
       "      <td>12126</td>\n",
       "      <td>3199</td>\n",
       "      <td>6975</td>\n",
       "      <td>480</td>\n",
       "      <td>3140</td>\n",
       "      <td>545</td>\n",
       "    </tr>\n",
       "  </tbody>\n",
       "</table>\n",
       "</div>"
      ],
      "text/plain": [
       "   Channel  Region  Fresh  Milk  Grocery  Frozen  Detergents_Paper  Delicassen\n",
       "0        2       3  12669  9656     7561     214              2674        1338\n",
       "1        2       3   7057  9810     9568    1762              3293        1776\n",
       "3        1       3  13265  1196     4221    6404               507        1788\n",
       "5        2       3   9413  8259     5126     666              1795        1451\n",
       "6        2       3  12126  3199     6975     480              3140         545"
      ]
     },
     "execution_count": 14,
     "metadata": {},
     "output_type": "execute_result"
    }
   ],
   "source": [
    "customers.head()"
   ]
  },
  {
   "cell_type": "code",
   "execution_count": 15,
   "metadata": {},
   "outputs": [
    {
     "data": {
      "text/plain": [
       "3    239\n",
       "1     60\n",
       "2     33\n",
       "Name: Region, dtype: int64"
      ]
     },
     "execution_count": 15,
     "metadata": {},
     "output_type": "execute_result"
    }
   ],
   "source": [
    "customers.Region.value_counts()"
   ]
  },
  {
   "cell_type": "code",
   "execution_count": 16,
   "metadata": {
    "scrolled": true
   },
   "outputs": [
    {
     "data": {
      "text/plain": [
       "1    237\n",
       "2     95\n",
       "Name: Channel, dtype: int64"
      ]
     },
     "execution_count": 16,
     "metadata": {},
     "output_type": "execute_result"
    }
   ],
   "source": [
    "customers.Channel.value_counts()"
   ]
  },
  {
   "cell_type": "code",
   "execution_count": 17,
   "metadata": {},
   "outputs": [
    {
     "data": {
      "text/html": [
       "<div>\n",
       "<style scoped>\n",
       "    .dataframe tbody tr th:only-of-type {\n",
       "        vertical-align: middle;\n",
       "    }\n",
       "\n",
       "    .dataframe tbody tr th {\n",
       "        vertical-align: top;\n",
       "    }\n",
       "\n",
       "    .dataframe thead th {\n",
       "        text-align: right;\n",
       "    }\n",
       "</style>\n",
       "<table border=\"1\" class=\"dataframe\">\n",
       "  <thead>\n",
       "    <tr style=\"text-align: right;\">\n",
       "      <th></th>\n",
       "      <th>Channel</th>\n",
       "      <th>Fresh</th>\n",
       "      <th>Milk</th>\n",
       "      <th>Grocery</th>\n",
       "      <th>Frozen</th>\n",
       "      <th>Detergents_Paper</th>\n",
       "      <th>Delicassen</th>\n",
       "    </tr>\n",
       "  </thead>\n",
       "  <tbody>\n",
       "    <tr>\n",
       "      <th>0</th>\n",
       "      <td>2</td>\n",
       "      <td>12669</td>\n",
       "      <td>9656</td>\n",
       "      <td>7561</td>\n",
       "      <td>214</td>\n",
       "      <td>2674</td>\n",
       "      <td>1338</td>\n",
       "    </tr>\n",
       "    <tr>\n",
       "      <th>1</th>\n",
       "      <td>2</td>\n",
       "      <td>7057</td>\n",
       "      <td>9810</td>\n",
       "      <td>9568</td>\n",
       "      <td>1762</td>\n",
       "      <td>3293</td>\n",
       "      <td>1776</td>\n",
       "    </tr>\n",
       "    <tr>\n",
       "      <th>3</th>\n",
       "      <td>1</td>\n",
       "      <td>13265</td>\n",
       "      <td>1196</td>\n",
       "      <td>4221</td>\n",
       "      <td>6404</td>\n",
       "      <td>507</td>\n",
       "      <td>1788</td>\n",
       "    </tr>\n",
       "    <tr>\n",
       "      <th>5</th>\n",
       "      <td>2</td>\n",
       "      <td>9413</td>\n",
       "      <td>8259</td>\n",
       "      <td>5126</td>\n",
       "      <td>666</td>\n",
       "      <td>1795</td>\n",
       "      <td>1451</td>\n",
       "    </tr>\n",
       "    <tr>\n",
       "      <th>6</th>\n",
       "      <td>2</td>\n",
       "      <td>12126</td>\n",
       "      <td>3199</td>\n",
       "      <td>6975</td>\n",
       "      <td>480</td>\n",
       "      <td>3140</td>\n",
       "      <td>545</td>\n",
       "    </tr>\n",
       "  </tbody>\n",
       "</table>\n",
       "</div>"
      ],
      "text/plain": [
       "   Channel  Fresh  Milk  Grocery  Frozen  Detergents_Paper  Delicassen\n",
       "0        2  12669  9656     7561     214              2674        1338\n",
       "1        2   7057  9810     9568    1762              3293        1776\n",
       "3        1  13265  1196     4221    6404               507        1788\n",
       "5        2   9413  8259     5126     666              1795        1451\n",
       "6        2  12126  3199     6975     480              3140         545"
      ]
     },
     "execution_count": 17,
     "metadata": {},
     "output_type": "execute_result"
    }
   ],
   "source": [
    "X = customers.drop('Region', axis=1)\n",
    "\n",
    "y = customers.Region\n",
    "\n",
    "X.head()"
   ]
  },
  {
   "cell_type": "code",
   "execution_count": 18,
   "metadata": {},
   "outputs": [
    {
     "data": {
      "text/html": [
       "<div>\n",
       "<style scoped>\n",
       "    .dataframe tbody tr th:only-of-type {\n",
       "        vertical-align: middle;\n",
       "    }\n",
       "\n",
       "    .dataframe tbody tr th {\n",
       "        vertical-align: top;\n",
       "    }\n",
       "\n",
       "    .dataframe thead th {\n",
       "        text-align: right;\n",
       "    }\n",
       "</style>\n",
       "<table border=\"1\" class=\"dataframe\">\n",
       "  <thead>\n",
       "    <tr style=\"text-align: right;\">\n",
       "      <th></th>\n",
       "      <th>Fresh</th>\n",
       "      <th>Milk</th>\n",
       "      <th>Grocery</th>\n",
       "      <th>Frozen</th>\n",
       "      <th>Detergents_Paper</th>\n",
       "      <th>Delicassen</th>\n",
       "    </tr>\n",
       "  </thead>\n",
       "  <tbody>\n",
       "    <tr>\n",
       "      <th>0</th>\n",
       "      <td>0.383041</td>\n",
       "      <td>1.652898</td>\n",
       "      <td>0.334978</td>\n",
       "      <td>-0.967004</td>\n",
       "      <td>0.305053</td>\n",
       "      <td>0.390465</td>\n",
       "    </tr>\n",
       "    <tr>\n",
       "      <th>1</th>\n",
       "      <td>-0.305588</td>\n",
       "      <td>1.698756</td>\n",
       "      <td>0.733878</td>\n",
       "      <td>-0.059255</td>\n",
       "      <td>0.569139</td>\n",
       "      <td>0.922591</td>\n",
       "    </tr>\n",
       "    <tr>\n",
       "      <th>3</th>\n",
       "      <td>0.456174</td>\n",
       "      <td>-0.866283</td>\n",
       "      <td>-0.328862</td>\n",
       "      <td>2.662821</td>\n",
       "      <td>-0.619462</td>\n",
       "      <td>0.937169</td>\n",
       "    </tr>\n",
       "    <tr>\n",
       "      <th>5</th>\n",
       "      <td>-0.016491</td>\n",
       "      <td>1.236906</td>\n",
       "      <td>-0.148989</td>\n",
       "      <td>-0.701951</td>\n",
       "      <td>-0.069958</td>\n",
       "      <td>0.527749</td>\n",
       "    </tr>\n",
       "    <tr>\n",
       "      <th>6</th>\n",
       "      <td>0.316411</td>\n",
       "      <td>-0.269838</td>\n",
       "      <td>0.218508</td>\n",
       "      <td>-0.811022</td>\n",
       "      <td>0.503864</td>\n",
       "      <td>-0.572949</td>\n",
       "    </tr>\n",
       "  </tbody>\n",
       "</table>\n",
       "</div>"
      ],
      "text/plain": [
       "      Fresh      Milk   Grocery    Frozen  Detergents_Paper  Delicassen\n",
       "0  0.383041  1.652898  0.334978 -0.967004          0.305053    0.390465\n",
       "1 -0.305588  1.698756  0.733878 -0.059255          0.569139    0.922591\n",
       "3  0.456174 -0.866283 -0.328862  2.662821         -0.619462    0.937169\n",
       "5 -0.016491  1.236906 -0.148989 -0.701951         -0.069958    0.527749\n",
       "6  0.316411 -0.269838  0.218508 -0.811022          0.503864   -0.572949"
      ]
     },
     "execution_count": 18,
     "metadata": {},
     "output_type": "execute_result"
    }
   ],
   "source": [
    "# Your import here:\n",
    "\n",
    "from sklearn.preprocessing import StandardScaler \n",
    "\n",
    "# Your code here:\n",
    "scaler = StandardScaler()\n",
    "\n",
    "X[['Fresh','Milk','Grocery','Frozen','Detergents_Paper','Delicassen']] = scaler.fit_transform(X[['Fresh','Milk','Grocery','Frozen','Detergents_Paper','Delicassen']])\n",
    "\n",
    "customer_scale = X[['Fresh','Milk','Grocery','Frozen','Detergents_Paper','Delicassen']]\n",
    "\n",
    "customer_scale.head()"
   ]
  },
  {
   "cell_type": "markdown",
   "metadata": {},
   "source": [
    "# Challenge 4 - Data Clustering with K-Means\n",
    "\n",
    "Now let's cluster the data with K-Means first. Initiate the K-Means model, then fit your scaled data. In the data returned from the `.fit` method, there is an attribute called `labels_` which is the cluster number assigned to each data record. What you can do is to assign these labels back to `customers` in a new column called `customers['labels']`. Then you'll see the cluster results of the original data."
   ]
  },
  {
   "cell_type": "code",
   "execution_count": 19,
   "metadata": {},
   "outputs": [],
   "source": [
    "cols = ['Fresh','Milk','Grocery','Frozen','Detergents_Paper','Delicassen']"
   ]
  },
  {
   "cell_type": "code",
   "execution_count": 20,
   "metadata": {
    "scrolled": false
   },
   "outputs": [],
   "source": [
    "from sklearn.cluster import KMeans\n",
    "\n",
    "# Your code here:\n",
    "kmeans = KMeans(n_clusters = 4)\n",
    "clusters=kmeans.fit(customer_scale[cols])"
   ]
  },
  {
   "cell_type": "code",
   "execution_count": 21,
   "metadata": {},
   "outputs": [
    {
     "data": {
      "text/plain": [
       "array([3, 2, 3, 3, 0, 2, 2, 2, 0, 3, 2, 2, 0, 2, 2, 1, 0, 1, 1, 1, 2, 0,\n",
       "       1, 1, 3, 2, 2, 2, 1, 2, 2, 1, 3, 2, 0, 3, 1, 2, 2, 0, 0, 1, 1, 0,\n",
       "       2, 2, 1, 2, 1, 0, 2, 2, 2, 2, 1, 2, 3, 2, 1, 1, 1, 0, 2, 2, 1, 0,\n",
       "       0, 2, 2, 3, 2, 2, 0, 2, 2, 2, 0, 2, 2, 0, 2, 0, 0, 3, 1, 1, 2, 2,\n",
       "       2, 0, 2, 0, 3, 0, 2, 0, 2, 0, 2, 0], dtype=int32)"
      ]
     },
     "execution_count": 21,
     "metadata": {},
     "output_type": "execute_result"
    }
   ],
   "source": [
    "preds=clusters.fit_predict(customer_scale[cols])\n",
    "\n",
    "preds[100:200]"
   ]
  },
  {
   "cell_type": "code",
   "execution_count": 22,
   "metadata": {
    "scrolled": true
   },
   "outputs": [
    {
     "data": {
      "text/html": [
       "<div>\n",
       "<style scoped>\n",
       "    .dataframe tbody tr th:only-of-type {\n",
       "        vertical-align: middle;\n",
       "    }\n",
       "\n",
       "    .dataframe tbody tr th {\n",
       "        vertical-align: top;\n",
       "    }\n",
       "\n",
       "    .dataframe thead th {\n",
       "        text-align: right;\n",
       "    }\n",
       "</style>\n",
       "<table border=\"1\" class=\"dataframe\">\n",
       "  <thead>\n",
       "    <tr style=\"text-align: right;\">\n",
       "      <th></th>\n",
       "      <th>Fresh</th>\n",
       "      <th>Milk</th>\n",
       "      <th>Grocery</th>\n",
       "      <th>Frozen</th>\n",
       "      <th>Detergents_Paper</th>\n",
       "      <th>Delicassen</th>\n",
       "      <th>labels</th>\n",
       "    </tr>\n",
       "  </thead>\n",
       "  <tbody>\n",
       "    <tr>\n",
       "      <th>0</th>\n",
       "      <td>0.383041</td>\n",
       "      <td>1.652898</td>\n",
       "      <td>0.334978</td>\n",
       "      <td>-0.967004</td>\n",
       "      <td>0.305053</td>\n",
       "      <td>0.390465</td>\n",
       "      <td>3</td>\n",
       "    </tr>\n",
       "    <tr>\n",
       "      <th>1</th>\n",
       "      <td>-0.305588</td>\n",
       "      <td>1.698756</td>\n",
       "      <td>0.733878</td>\n",
       "      <td>-0.059255</td>\n",
       "      <td>0.569139</td>\n",
       "      <td>0.922591</td>\n",
       "      <td>1</td>\n",
       "    </tr>\n",
       "    <tr>\n",
       "      <th>3</th>\n",
       "      <td>0.456174</td>\n",
       "      <td>-0.866283</td>\n",
       "      <td>-0.328862</td>\n",
       "      <td>2.662821</td>\n",
       "      <td>-0.619462</td>\n",
       "      <td>0.937169</td>\n",
       "      <td>0</td>\n",
       "    </tr>\n",
       "    <tr>\n",
       "      <th>5</th>\n",
       "      <td>-0.016491</td>\n",
       "      <td>1.236906</td>\n",
       "      <td>-0.148989</td>\n",
       "      <td>-0.701951</td>\n",
       "      <td>-0.069958</td>\n",
       "      <td>0.527749</td>\n",
       "      <td>3</td>\n",
       "    </tr>\n",
       "    <tr>\n",
       "      <th>6</th>\n",
       "      <td>0.316411</td>\n",
       "      <td>-0.269838</td>\n",
       "      <td>0.218508</td>\n",
       "      <td>-0.811022</td>\n",
       "      <td>0.503864</td>\n",
       "      <td>-0.572949</td>\n",
       "      <td>2</td>\n",
       "    </tr>\n",
       "  </tbody>\n",
       "</table>\n",
       "</div>"
      ],
      "text/plain": [
       "      Fresh      Milk   Grocery    Frozen  Detergents_Paper  Delicassen  \\\n",
       "0  0.383041  1.652898  0.334978 -0.967004          0.305053    0.390465   \n",
       "1 -0.305588  1.698756  0.733878 -0.059255          0.569139    0.922591   \n",
       "3  0.456174 -0.866283 -0.328862  2.662821         -0.619462    0.937169   \n",
       "5 -0.016491  1.236906 -0.148989 -0.701951         -0.069958    0.527749   \n",
       "6  0.316411 -0.269838  0.218508 -0.811022          0.503864   -0.572949   \n",
       "\n",
       "   labels  \n",
       "0       3  \n",
       "1       1  \n",
       "3       0  \n",
       "5       3  \n",
       "6       2  "
      ]
     },
     "execution_count": 22,
     "metadata": {},
     "output_type": "execute_result"
    }
   ],
   "source": [
    "customer_scale['labels']=preds\n",
    "\n",
    "customer_scale.head()"
   ]
  },
  {
   "cell_type": "markdown",
   "metadata": {},
   "source": [
    "Count the values in `labels`."
   ]
  },
  {
   "cell_type": "code",
   "execution_count": 23,
   "metadata": {},
   "outputs": [
    {
     "data": {
      "text/plain": [
       "2    142\n",
       "0     78\n",
       "1     69\n",
       "3     43\n",
       "Name: labels, dtype: int64"
      ]
     },
     "execution_count": 23,
     "metadata": {},
     "output_type": "execute_result"
    }
   ],
   "source": [
    "customer_scale['labels'].value_counts()"
   ]
  },
  {
   "cell_type": "markdown",
   "metadata": {},
   "source": [
    "# Challenge 5 - Data Clustering with DBSCAN\n",
    "\n",
    "Now let's cluster the data using DBSCAN. Use `DBSCAN(eps=0.5)` to initiate the model, then fit your scaled data. In the data returned from the `.fit` method, assign the `labels_` back to `customers['labels_DBSCAN']`. Now your original data have two labels, one from K-Means and the other from DBSCAN."
   ]
  },
  {
   "cell_type": "code",
   "execution_count": 24,
   "metadata": {},
   "outputs": [
    {
     "data": {
      "text/html": [
       "<div>\n",
       "<style scoped>\n",
       "    .dataframe tbody tr th:only-of-type {\n",
       "        vertical-align: middle;\n",
       "    }\n",
       "\n",
       "    .dataframe tbody tr th {\n",
       "        vertical-align: top;\n",
       "    }\n",
       "\n",
       "    .dataframe thead th {\n",
       "        text-align: right;\n",
       "    }\n",
       "</style>\n",
       "<table border=\"1\" class=\"dataframe\">\n",
       "  <thead>\n",
       "    <tr style=\"text-align: right;\">\n",
       "      <th></th>\n",
       "      <th>Fresh</th>\n",
       "      <th>Milk</th>\n",
       "      <th>Grocery</th>\n",
       "      <th>Frozen</th>\n",
       "      <th>Detergents_Paper</th>\n",
       "      <th>Delicassen</th>\n",
       "      <th>labels</th>\n",
       "    </tr>\n",
       "  </thead>\n",
       "  <tbody>\n",
       "    <tr>\n",
       "      <th>0</th>\n",
       "      <td>0.383041</td>\n",
       "      <td>1.652898</td>\n",
       "      <td>0.334978</td>\n",
       "      <td>-0.967004</td>\n",
       "      <td>0.305053</td>\n",
       "      <td>0.390465</td>\n",
       "      <td>3</td>\n",
       "    </tr>\n",
       "    <tr>\n",
       "      <th>1</th>\n",
       "      <td>-0.305588</td>\n",
       "      <td>1.698756</td>\n",
       "      <td>0.733878</td>\n",
       "      <td>-0.059255</td>\n",
       "      <td>0.569139</td>\n",
       "      <td>0.922591</td>\n",
       "      <td>1</td>\n",
       "    </tr>\n",
       "    <tr>\n",
       "      <th>3</th>\n",
       "      <td>0.456174</td>\n",
       "      <td>-0.866283</td>\n",
       "      <td>-0.328862</td>\n",
       "      <td>2.662821</td>\n",
       "      <td>-0.619462</td>\n",
       "      <td>0.937169</td>\n",
       "      <td>0</td>\n",
       "    </tr>\n",
       "    <tr>\n",
       "      <th>5</th>\n",
       "      <td>-0.016491</td>\n",
       "      <td>1.236906</td>\n",
       "      <td>-0.148989</td>\n",
       "      <td>-0.701951</td>\n",
       "      <td>-0.069958</td>\n",
       "      <td>0.527749</td>\n",
       "      <td>3</td>\n",
       "    </tr>\n",
       "    <tr>\n",
       "      <th>6</th>\n",
       "      <td>0.316411</td>\n",
       "      <td>-0.269838</td>\n",
       "      <td>0.218508</td>\n",
       "      <td>-0.811022</td>\n",
       "      <td>0.503864</td>\n",
       "      <td>-0.572949</td>\n",
       "      <td>2</td>\n",
       "    </tr>\n",
       "  </tbody>\n",
       "</table>\n",
       "</div>"
      ],
      "text/plain": [
       "      Fresh      Milk   Grocery    Frozen  Detergents_Paper  Delicassen  \\\n",
       "0  0.383041  1.652898  0.334978 -0.967004          0.305053    0.390465   \n",
       "1 -0.305588  1.698756  0.733878 -0.059255          0.569139    0.922591   \n",
       "3  0.456174 -0.866283 -0.328862  2.662821         -0.619462    0.937169   \n",
       "5 -0.016491  1.236906 -0.148989 -0.701951         -0.069958    0.527749   \n",
       "6  0.316411 -0.269838  0.218508 -0.811022          0.503864   -0.572949   \n",
       "\n",
       "   labels  \n",
       "0       3  \n",
       "1       1  \n",
       "3       0  \n",
       "5       3  \n",
       "6       2  "
      ]
     },
     "execution_count": 24,
     "metadata": {},
     "output_type": "execute_result"
    }
   ],
   "source": [
    "customer_scale.head()"
   ]
  },
  {
   "cell_type": "code",
   "execution_count": 25,
   "metadata": {
    "scrolled": false
   },
   "outputs": [],
   "source": [
    "# Your code here\n",
    "from sklearn.cluster import DBSCAN \n",
    "\n",
    "dbscan=DBSCAN(eps=0.5)\n",
    "\n",
    "pred=dbscan.fit(customer_scale).labels_"
   ]
  },
  {
   "cell_type": "code",
   "execution_count": 26,
   "metadata": {},
   "outputs": [],
   "source": [
    "customer_scale['labels_DBSCAN']=pred"
   ]
  },
  {
   "cell_type": "markdown",
   "metadata": {},
   "source": [
    "Count the values in `labels_DBSCAN`."
   ]
  },
  {
   "cell_type": "code",
   "execution_count": 27,
   "metadata": {
    "scrolled": true
   },
   "outputs": [
    {
     "data": {
      "text/plain": [
       "-1    291\n",
       " 0     37\n",
       " 1      4\n",
       "Name: labels_DBSCAN, dtype: int64"
      ]
     },
     "execution_count": 27,
     "metadata": {},
     "output_type": "execute_result"
    }
   ],
   "source": [
    "# Your code here\n",
    "customer_scale['labels_DBSCAN'].value_counts()"
   ]
  },
  {
   "cell_type": "code",
   "execution_count": 28,
   "metadata": {},
   "outputs": [
    {
     "data": {
      "text/html": [
       "<div>\n",
       "<style scoped>\n",
       "    .dataframe tbody tr th:only-of-type {\n",
       "        vertical-align: middle;\n",
       "    }\n",
       "\n",
       "    .dataframe tbody tr th {\n",
       "        vertical-align: top;\n",
       "    }\n",
       "\n",
       "    .dataframe thead th {\n",
       "        text-align: right;\n",
       "    }\n",
       "</style>\n",
       "<table border=\"1\" class=\"dataframe\">\n",
       "  <thead>\n",
       "    <tr style=\"text-align: right;\">\n",
       "      <th></th>\n",
       "      <th>Fresh</th>\n",
       "      <th>Milk</th>\n",
       "      <th>Grocery</th>\n",
       "      <th>Frozen</th>\n",
       "      <th>Detergents_Paper</th>\n",
       "      <th>Delicassen</th>\n",
       "      <th>labels</th>\n",
       "      <th>labels_DBSCAN</th>\n",
       "    </tr>\n",
       "  </thead>\n",
       "  <tbody>\n",
       "    <tr>\n",
       "      <th>0</th>\n",
       "      <td>0.383041</td>\n",
       "      <td>1.652898</td>\n",
       "      <td>0.334978</td>\n",
       "      <td>-0.967004</td>\n",
       "      <td>0.305053</td>\n",
       "      <td>0.390465</td>\n",
       "      <td>3</td>\n",
       "      <td>-1</td>\n",
       "    </tr>\n",
       "    <tr>\n",
       "      <th>1</th>\n",
       "      <td>-0.305588</td>\n",
       "      <td>1.698756</td>\n",
       "      <td>0.733878</td>\n",
       "      <td>-0.059255</td>\n",
       "      <td>0.569139</td>\n",
       "      <td>0.922591</td>\n",
       "      <td>1</td>\n",
       "      <td>-1</td>\n",
       "    </tr>\n",
       "    <tr>\n",
       "      <th>3</th>\n",
       "      <td>0.456174</td>\n",
       "      <td>-0.866283</td>\n",
       "      <td>-0.328862</td>\n",
       "      <td>2.662821</td>\n",
       "      <td>-0.619462</td>\n",
       "      <td>0.937169</td>\n",
       "      <td>0</td>\n",
       "      <td>-1</td>\n",
       "    </tr>\n",
       "    <tr>\n",
       "      <th>5</th>\n",
       "      <td>-0.016491</td>\n",
       "      <td>1.236906</td>\n",
       "      <td>-0.148989</td>\n",
       "      <td>-0.701951</td>\n",
       "      <td>-0.069958</td>\n",
       "      <td>0.527749</td>\n",
       "      <td>3</td>\n",
       "      <td>-1</td>\n",
       "    </tr>\n",
       "    <tr>\n",
       "      <th>6</th>\n",
       "      <td>0.316411</td>\n",
       "      <td>-0.269838</td>\n",
       "      <td>0.218508</td>\n",
       "      <td>-0.811022</td>\n",
       "      <td>0.503864</td>\n",
       "      <td>-0.572949</td>\n",
       "      <td>2</td>\n",
       "      <td>-1</td>\n",
       "    </tr>\n",
       "  </tbody>\n",
       "</table>\n",
       "</div>"
      ],
      "text/plain": [
       "      Fresh      Milk   Grocery    Frozen  Detergents_Paper  Delicassen  \\\n",
       "0  0.383041  1.652898  0.334978 -0.967004          0.305053    0.390465   \n",
       "1 -0.305588  1.698756  0.733878 -0.059255          0.569139    0.922591   \n",
       "3  0.456174 -0.866283 -0.328862  2.662821         -0.619462    0.937169   \n",
       "5 -0.016491  1.236906 -0.148989 -0.701951         -0.069958    0.527749   \n",
       "6  0.316411 -0.269838  0.218508 -0.811022          0.503864   -0.572949   \n",
       "\n",
       "   labels  labels_DBSCAN  \n",
       "0       3             -1  \n",
       "1       1             -1  \n",
       "3       0             -1  \n",
       "5       3             -1  \n",
       "6       2             -1  "
      ]
     },
     "execution_count": 28,
     "metadata": {},
     "output_type": "execute_result"
    }
   ],
   "source": [
    "customer_scale.head()"
   ]
  },
  {
   "cell_type": "markdown",
   "metadata": {},
   "source": [
    "# Challenge 6 - Compare K-Means with DBSCAN\n",
    "\n",
    "Now we want to visually compare how K-Means and DBSCAN have clustered our data. We will create scatter plots for several columns. For each of the following column pairs, plot a scatter plot using `labels` and another using `labels_DBSCAN`. Put them side by side to compare. Which clustering algorithm makes better sense?\n",
    "\n",
    "Columns to visualize:\n",
    "\n",
    "* `Detergents_Paper` as X and `Milk` as y\n",
    "* `Grocery` as X and `Fresh` as y\n",
    "* `Frozen` as X and `Delicassen` as y"
   ]
  },
  {
   "cell_type": "markdown",
   "metadata": {},
   "source": [
    "Visualize `Detergents_Paper` as X and `Milk` as y by `labels` and `labels_DBSCAN` respectively"
   ]
  },
  {
   "cell_type": "code",
   "execution_count": 29,
   "metadata": {},
   "outputs": [],
   "source": [
    "clusters=kmeans.fit(customer_scale[cols])"
   ]
  },
  {
   "cell_type": "code",
   "execution_count": 30,
   "metadata": {
    "scrolled": true
   },
   "outputs": [],
   "source": [
    "labels = clusters.labels_"
   ]
  },
  {
   "cell_type": "code",
   "execution_count": 31,
   "metadata": {
    "scrolled": true
   },
   "outputs": [],
   "source": [
    "customer_scale['labels'] = labels"
   ]
  },
  {
   "cell_type": "code",
   "execution_count": 40,
   "metadata": {},
   "outputs": [
    {
     "data": {
      "image/png": "[encoded data removed]",
      "text/plain": [
       "<Figure size 432x288 with 1 Axes>"
      ]
     },
     "metadata": {},
     "output_type": "display_data"
    }
   ],
   "source": [
    "# Your code here:\n",
    "x = customer_scale.Detergents_Paper\n",
    "y = customer_scale.Milk\n",
    "\n",
    "plt.scatter(x, y, c = labels);"
   ]
  },
  {
   "cell_type": "code",
   "execution_count": 41,
   "metadata": {},
   "outputs": [
    {
     "data": {
      "image/png": "[encoded data removed]",
      "text/plain": [
       "<Figure size 432x288 with 1 Axes>"
      ]
     },
     "metadata": {},
     "output_type": "display_data"
    }
   ],
   "source": [
    "x = customer_scale.Detergents_Paper\n",
    "y = customer_scale.Milk\n",
    "\n",
    "plt.scatter(x, y, c = customer_scale.labels_DBSCAN);"
   ]
  },
  {
   "cell_type": "markdown",
   "metadata": {},
   "source": [
    "Visualize `Grocery` as X and `Fresh` as y by `labels` and `labels_DBSCAN` respectively"
   ]
  },
  {
   "cell_type": "code",
   "execution_count": 42,
   "metadata": {},
   "outputs": [
    {
     "data": {
      "image/png": "[encoded data removed]",
      "text/plain": [
       "<Figure size 432x288 with 1 Axes>"
      ]
     },
     "metadata": {},
     "output_type": "display_data"
    }
   ],
   "source": [
    "x = customer_scale.Grocery\n",
    "y = customer_scale.Fresh\n",
    "\n",
    "plt.scatter(x, y, c = labels);"
   ]
  },
  {
   "cell_type": "code",
   "execution_count": 44,
   "metadata": {},
   "outputs": [
    {
     "data": {
      "image/png": "[encoded data removed]",
      "text/plain": [
       "<Figure size 432x288 with 1 Axes>"
      ]
     },
     "metadata": {},
     "output_type": "display_data"
    }
   ],
   "source": [
    "x = customer_scale.Grocery\n",
    "y = customer_scale.Fresh\n",
    "\n",
    "plt.scatter(x, y, c = customer_scale.labels_DBSCAN);"
   ]
  },
  {
   "cell_type": "markdown",
   "metadata": {},
   "source": [
    "Visualize `Frozen` as X and `Delicassen` as y by `labels` and `labels_DBSCAN` respectively"
   ]
  },
  {
   "cell_type": "code",
   "execution_count": 46,
   "metadata": {},
   "outputs": [
    {
     "data": {
      "text/plain": [
       "<matplotlib.collections.PathCollection at 0x7f97b92060a0>"
      ]
     },
     "execution_count": 46,
     "metadata": {},
     "output_type": "execute_result"
    },
    {
     "data": {
      "image/png": "[encoded data removed]",
      "text/plain": [
       "<Figure size 432x288 with 1 Axes>"
      ]
     },
     "metadata": {},
     "output_type": "display_data"
    }
   ],
   "source": [
    "# Your code here:\n",
    "x = customer_scale.Frozen\n",
    "y = customer_scale.Delicassen\n",
    "\n",
    "plt.scatter(x, y, c = customer_scale.labels_DBSCAN)"
   ]
  },
  {
   "cell_type": "code",
   "execution_count": 47,
   "metadata": {},
   "outputs": [
    {
     "data": {
      "text/plain": [
       "<matplotlib.collections.PathCollection at 0x7f97b923a520>"
      ]
     },
     "execution_count": 47,
     "metadata": {},
     "output_type": "execute_result"
    },
    {
     "data": {
      "image/png": "[encoded data removed]",
      "text/plain": [
       "<Figure size 432x288 with 1 Axes>"
      ]
     },
     "metadata": {},
     "output_type": "display_data"
    }
   ],
   "source": [
    "x = customer_scale.Frozen\n",
    "y = customer_scale.Delicassen\n",
    "\n",
    "plt.scatter(x, y, c = labels)"
   ]
  },
  {
   "cell_type": "markdown",
   "metadata": {},
   "source": [
    "Let's use a groupby to see how the mean differs between the groups. Group `customers` by `labels` and `labels_DBSCAN` respectively and compute the means for all columns."
   ]
  },
  {
   "cell_type": "code",
   "execution_count": 48,
   "metadata": {},
   "outputs": [
    {
     "data": {
      "text/html": [
       "<div>\n",
       "<style scoped>\n",
       "    .dataframe tbody tr th:only-of-type {\n",
       "        vertical-align: middle;\n",
       "    }\n",
       "\n",
       "    .dataframe tbody tr th {\n",
       "        vertical-align: top;\n",
       "    }\n",
       "\n",
       "    .dataframe thead th {\n",
       "        text-align: right;\n",
       "    }\n",
       "</style>\n",
       "<table border=\"1\" class=\"dataframe\">\n",
       "  <thead>\n",
       "    <tr style=\"text-align: right;\">\n",
       "      <th></th>\n",
       "      <th>Fresh</th>\n",
       "      <th>Milk</th>\n",
       "      <th>Grocery</th>\n",
       "      <th>Frozen</th>\n",
       "      <th>Detergents_Paper</th>\n",
       "      <th>Delicassen</th>\n",
       "      <th>labels_DBSCAN</th>\n",
       "    </tr>\n",
       "    <tr>\n",
       "      <th>labels</th>\n",
       "      <th></th>\n",
       "      <th></th>\n",
       "      <th></th>\n",
       "      <th></th>\n",
       "      <th></th>\n",
       "      <th></th>\n",
       "      <th></th>\n",
       "    </tr>\n",
       "  </thead>\n",
       "  <tbody>\n",
       "    <tr>\n",
       "      <th>0</th>\n",
       "      <td>1.026716</td>\n",
       "      <td>0.506615</td>\n",
       "      <td>0.358930</td>\n",
       "      <td>-0.325672</td>\n",
       "      <td>0.028456</td>\n",
       "      <td>1.501730</td>\n",
       "      <td>-1.000000</td>\n",
       "    </tr>\n",
       "    <tr>\n",
       "      <th>1</th>\n",
       "      <td>-0.294505</td>\n",
       "      <td>-0.471007</td>\n",
       "      <td>-0.504338</td>\n",
       "      <td>-0.506225</td>\n",
       "      <td>-0.481626</td>\n",
       "      <td>-0.487684</td>\n",
       "      <td>-0.683099</td>\n",
       "    </tr>\n",
       "    <tr>\n",
       "      <th>2</th>\n",
       "      <td>-0.564146</td>\n",
       "      <td>1.276415</td>\n",
       "      <td>1.470052</td>\n",
       "      <td>-0.327062</td>\n",
       "      <td>1.632285</td>\n",
       "      <td>0.239695</td>\n",
       "      <td>-1.000000</td>\n",
       "    </tr>\n",
       "    <tr>\n",
       "      <th>3</th>\n",
       "      <td>0.469193</td>\n",
       "      <td>-0.550950</td>\n",
       "      <td>-0.580148</td>\n",
       "      <td>1.390450</td>\n",
       "      <td>-0.582826</td>\n",
       "      <td>-0.152080</td>\n",
       "      <td>-1.000000</td>\n",
       "    </tr>\n",
       "  </tbody>\n",
       "</table>\n",
       "</div>"
      ],
      "text/plain": [
       "           Fresh      Milk   Grocery    Frozen  Detergents_Paper  Delicassen  \\\n",
       "labels                                                                         \n",
       "0       1.026716  0.506615  0.358930 -0.325672          0.028456    1.501730   \n",
       "1      -0.294505 -0.471007 -0.504338 -0.506225         -0.481626   -0.487684   \n",
       "2      -0.564146  1.276415  1.470052 -0.327062          1.632285    0.239695   \n",
       "3       0.469193 -0.550950 -0.580148  1.390450         -0.582826   -0.152080   \n",
       "\n",
       "        labels_DBSCAN  \n",
       "labels                 \n",
       "0           -1.000000  \n",
       "1           -0.683099  \n",
       "2           -1.000000  \n",
       "3           -1.000000  "
      ]
     },
     "execution_count": 48,
     "metadata": {},
     "output_type": "execute_result"
    }
   ],
   "source": [
    "customer_scale.groupby('labels').mean()"
   ]
  },
  {
   "cell_type": "code",
   "execution_count": 49,
   "metadata": {},
   "outputs": [
    {
     "data": {
      "text/html": [
       "<div>\n",
       "<style scoped>\n",
       "    .dataframe tbody tr th:only-of-type {\n",
       "        vertical-align: middle;\n",
       "    }\n",
       "\n",
       "    .dataframe tbody tr th {\n",
       "        vertical-align: top;\n",
       "    }\n",
       "\n",
       "    .dataframe thead th {\n",
       "        text-align: right;\n",
       "    }\n",
       "</style>\n",
       "<table border=\"1\" class=\"dataframe\">\n",
       "  <thead>\n",
       "    <tr style=\"text-align: right;\">\n",
       "      <th></th>\n",
       "      <th>Fresh</th>\n",
       "      <th>Milk</th>\n",
       "      <th>Grocery</th>\n",
       "      <th>Frozen</th>\n",
       "      <th>Detergents_Paper</th>\n",
       "      <th>Delicassen</th>\n",
       "      <th>labels</th>\n",
       "    </tr>\n",
       "    <tr>\n",
       "      <th>labels_DBSCAN</th>\n",
       "      <th></th>\n",
       "      <th></th>\n",
       "      <th></th>\n",
       "      <th></th>\n",
       "      <th></th>\n",
       "      <th></th>\n",
       "      <th></th>\n",
       "    </tr>\n",
       "  </thead>\n",
       "  <tbody>\n",
       "    <tr>\n",
       "      <th>-1</th>\n",
       "      <td>0.082028</td>\n",
       "      <td>0.120170</td>\n",
       "      <td>0.119701</td>\n",
       "      <td>0.078461</td>\n",
       "      <td>0.099414</td>\n",
       "      <td>0.106492</td>\n",
       "      <td>1.62543</td>\n",
       "    </tr>\n",
       "    <tr>\n",
       "      <th>0</th>\n",
       "      <td>-0.565523</td>\n",
       "      <td>-0.874741</td>\n",
       "      <td>-0.854863</td>\n",
       "      <td>-0.612342</td>\n",
       "      <td>-0.712906</td>\n",
       "      <td>-0.804469</td>\n",
       "      <td>1.00000</td>\n",
       "    </tr>\n",
       "    <tr>\n",
       "      <th>1</th>\n",
       "      <td>-0.736472</td>\n",
       "      <td>-0.650991</td>\n",
       "      <td>-0.800754</td>\n",
       "      <td>-0.043862</td>\n",
       "      <td>-0.638020</td>\n",
       "      <td>-0.305975</td>\n",
       "      <td>1.00000</td>\n",
       "    </tr>\n",
       "  </tbody>\n",
       "</table>\n",
       "</div>"
      ],
      "text/plain": [
       "                  Fresh      Milk   Grocery    Frozen  Detergents_Paper  \\\n",
       "labels_DBSCAN                                                             \n",
       "-1             0.082028  0.120170  0.119701  0.078461          0.099414   \n",
       " 0            -0.565523 -0.874741 -0.854863 -0.612342         -0.712906   \n",
       " 1            -0.736472 -0.650991 -0.800754 -0.043862         -0.638020   \n",
       "\n",
       "               Delicassen   labels  \n",
       "labels_DBSCAN                       \n",
       "-1               0.106492  1.62543  \n",
       " 0              -0.804469  1.00000  \n",
       " 1              -0.305975  1.00000  "
      ]
     },
     "execution_count": 49,
     "metadata": {},
     "output_type": "execute_result"
    }
   ],
   "source": [
    "customer_scale.groupby('labels_DBSCAN').mean()"
   ]
  },
  {
   "cell_type": "markdown",
   "metadata": {},
   "source": [
    "Which algorithm appears to perform better?"
   ]
  },
  {
   "cell_type": "markdown",
   "metadata": {},
   "source": [
    "**Your observations here**\n",
    "\n",
    " Me cuesta un poco ver cual de los dos modelos clusteriza mejor a traves de sus medias. Si fuera por los graficos diria que kmeans funciona mejor, aunque si fuera por la diferencia de medias podria ser DBSCAN. Para mi ninguno de los dos esta haciendo buenos clusters. "
   ]
  },
  {
   "cell_type": "markdown",
   "metadata": {},
   "source": [
    "# Bonus Challenge 2 - Changing K-Means Number of Clusters\n",
    "\n",
    "As we mentioned earlier, we don't need to worry about the number of clusters with DBSCAN because it automatically decides that based on the parameters we send to it. But with K-Means, we have to supply the `n_clusters` param (if you don't supply `n_clusters`, the algorithm will use `8` by default). You need to know that the optimal number of clusters differs case by case based on the dataset. K-Means can perform badly if the wrong number of clusters is used.\n",
    "\n",
    "In advanced machine learning, data scientists try different numbers of clusters and evaluate the results with statistical measures (read [here](https://en.wikipedia.org/wiki/Cluster_analysis#External_evaluation)). We are not using statistical measures today but we'll use our eyes instead. In the cells below, experiment with different number of clusters and visualize with scatter plots. What number of clusters seems to work best for K-Means?"
   ]
  },
  {
   "cell_type": "code",
   "execution_count": 37,
   "metadata": {},
   "outputs": [],
   "source": [
    "# Your code here"
   ]
  },
  {
   "cell_type": "markdown",
   "metadata": {},
   "source": [
    "**Your comment here**\n",
    "\n",
    "Segun puedo ver, 2 clusters parecen funcionar mejor."
   ]
  },
  {
   "cell_type": "markdown",
   "metadata": {},
   "source": [
    "# Bonus Challenge 3 - Changing DBSCAN `eps` and `min_samples`\n",
    "\n",
    "Experiment changing the `eps` and `min_samples` params for DBSCAN. See how the results differ with scatter plot visualization."
   ]
  },
  {
   "cell_type": "code",
   "execution_count": 38,
   "metadata": {},
   "outputs": [],
   "source": [
    "# Your code here"
   ]
  },
  {
   "cell_type": "markdown",
   "metadata": {},
   "source": [
    "**Your comment here**\n",
    "\n",
    "+ \n",
    "+ \n",
    "+ \n"
   ]
  }
 ],
 "metadata": {
  "kernelspec": {
   "display_name": "Python 3 (ipykernel)",
   "language": "python",
   "name": "python3"
  },
  "language_info": {
   "codemirror_mode": {
    "name": "ipython",
    "version": 3
   },
   "file_extension": ".py",
   "mimetype": "text/x-python",
   "name": "python",
   "nbconvert_exporter": "python",
   "pygments_lexer": "ipython3",
   "version": "3.9.12"
  },
  "toc": {
   "base_numbering": 1,
   "nav_menu": {},
   "number_sections": true,
   "sideBar": true,
   "skip_h1_title": false,
   "title_cell": "Table of Contents",
   "title_sidebar": "Contents",
   "toc_cell": true,
   "toc_position": {},
   "toc_section_display": true,
   "toc_window_display": false
  },
  "varInspector": {
   "cols": {
    "lenName": 16,
    "lenType": 16,
    "lenVar": 40
   },
   "kernels_config": {
    "python": {
     "delete_cmd_postfix": "",
     "delete_cmd_prefix": "del ",
     "library": "var_list.py",
     "varRefreshCmd": "print(var_dic_list())"
    },
    "r": {
     "delete_cmd_postfix": ") ",
     "delete_cmd_prefix": "rm(",
     "library": "var_list.r",
     "varRefreshCmd": "cat(var_dic_list()) "
    }
   },
   "types_to_exclude": [
    "module",
    "function",
    "builtin_function_or_method",
    "instance",
    "_Feature"
   ],
   "window_display": false
  }
 },
 "nbformat": 4,
 "nbformat_minor": 2
}
