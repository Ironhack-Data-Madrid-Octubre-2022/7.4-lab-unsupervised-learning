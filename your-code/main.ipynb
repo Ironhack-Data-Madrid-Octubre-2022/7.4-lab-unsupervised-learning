{
 "cells": [
  {
   "cell_type": "markdown",
   "metadata": {
    "toc": true
   },
   "source": [
    "<h1>Table of Contents<span class=\"tocSkip\"></span></h1>\n",
    "<div class=\"toc\"><ul class=\"toc-item\"><li><span><a href=\"#Before-your-start:\" data-toc-modified-id=\"Before-your-start:-1\"><span class=\"toc-item-num\">1&nbsp;&nbsp;</span>Before your start:</a></span></li><li><span><a href=\"#Challenge-1---Import-and-Describe-the-Dataset\" data-toc-modified-id=\"Challenge-1---Import-and-Describe-the-Dataset-2\"><span class=\"toc-item-num\">2&nbsp;&nbsp;</span>Challenge 1 - Import and Describe the Dataset</a></span><ul class=\"toc-item\"><li><ul class=\"toc-item\"><li><ul class=\"toc-item\"><li><span><a href=\"#Explore-the-dataset-with-mathematical-and-visualization-techniques.-What-do-you-find?\" data-toc-modified-id=\"Explore-the-dataset-with-mathematical-and-visualization-techniques.-What-do-you-find?-2.0.0.1\"><span class=\"toc-item-num\">2.0.0.1&nbsp;&nbsp;</span>Explore the dataset with mathematical and visualization techniques. What do you find?</a></span></li></ul></li></ul></li></ul></li><li><span><a href=\"#Challenge-2---Data-Cleaning-and-Transformation\" data-toc-modified-id=\"Challenge-2---Data-Cleaning-and-Transformation-3\"><span class=\"toc-item-num\">3&nbsp;&nbsp;</span>Challenge 2 - Data Cleaning and Transformation</a></span></li><li><span><a href=\"#Challenge-3---Data-Preprocessing\" data-toc-modified-id=\"Challenge-3---Data-Preprocessing-4\"><span class=\"toc-item-num\">4&nbsp;&nbsp;</span>Challenge 3 - Data Preprocessing</a></span><ul class=\"toc-item\"><li><ul class=\"toc-item\"><li><ul class=\"toc-item\"><li><span><a href=\"#We-will-use-the-StandardScaler-from-sklearn.preprocessing-and-scale-our-data.-Read-more-about-StandardScaler-here.\" data-toc-modified-id=\"We-will-use-the-StandardScaler-from-sklearn.preprocessing-and-scale-our-data.-Read-more-about-StandardScaler-here.-4.0.0.1\"><span class=\"toc-item-num\">4.0.0.1&nbsp;&nbsp;</span>We will use the <code>StandardScaler</code> from <code>sklearn.preprocessing</code> and scale our data. Read more about <code>StandardScaler</code> <a href=\"https://scikit-learn.org/stable/modules/generated/sklearn.preprocessing.StandardScaler.html#sklearn.preprocessing.StandardScaler\" target=\"_blank\">here</a>.</a></span></li></ul></li></ul></li></ul></li><li><span><a href=\"#Challenge-4---Data-Clustering-with-K-Means\" data-toc-modified-id=\"Challenge-4---Data-Clustering-with-K-Means-5\"><span class=\"toc-item-num\">5&nbsp;&nbsp;</span>Challenge 4 - Data Clustering with K-Means</a></span></li><li><span><a href=\"#Challenge-5---Data-Clustering-with-DBSCAN\" data-toc-modified-id=\"Challenge-5---Data-Clustering-with-DBSCAN-6\"><span class=\"toc-item-num\">6&nbsp;&nbsp;</span>Challenge 5 - Data Clustering with DBSCAN</a></span></li><li><span><a href=\"#Challenge-6---Compare-K-Means-with-DBSCAN\" data-toc-modified-id=\"Challenge-6---Compare-K-Means-with-DBSCAN-7\"><span class=\"toc-item-num\">7&nbsp;&nbsp;</span>Challenge 6 - Compare K-Means with DBSCAN</a></span></li><li><span><a href=\"#Bonus-Challenge-2---Changing-K-Means-Number-of-Clusters\" data-toc-modified-id=\"Bonus-Challenge-2---Changing-K-Means-Number-of-Clusters-8\"><span class=\"toc-item-num\">8&nbsp;&nbsp;</span>Bonus Challenge 2 - Changing K-Means Number of Clusters</a></span></li><li><span><a href=\"#Bonus-Challenge-3---Changing-DBSCAN-eps-and-min_samples\" data-toc-modified-id=\"Bonus-Challenge-3---Changing-DBSCAN-eps-and-min_samples-9\"><span class=\"toc-item-num\">9&nbsp;&nbsp;</span>Bonus Challenge 3 - Changing DBSCAN <code>eps</code> and <code>min_samples</code></a></span></li></ul></div>"
   ]
  },
  {
   "cell_type": "markdown",
   "metadata": {},
   "source": [
    "# Before your start:\n",
    "- Read the README.md file\n",
    "- Comment as much as you can and use the resources in the README.md file\n",
    "- Happy learning!"
   ]
  },
  {
   "cell_type": "code",
   "execution_count": 226,
   "metadata": {},
   "outputs": [],
   "source": [
    "# Import your libraries:\n",
    "\n",
    "%matplotlib inline\n",
    "\n",
    "import matplotlib.pyplot as plt\n",
    "import numpy as np\n",
    "import pandas as pd\n",
    "import seaborn as sns\n",
    "import warnings                                              \n",
    "from sklearn.exceptions import DataConversionWarning          \n",
    "warnings.filterwarnings(action='ignore', category=DataConversionWarning)"
   ]
  },
  {
   "cell_type": "markdown",
   "metadata": {},
   "source": [
    "# Challenge 1 - Import and Describe the Dataset\n",
    "\n",
    "In this lab, we will use a dataset containing information about customer preferences. We will look at how much each customer spends in a year on each subcategory in the grocery store and try to find similarities using clustering.\n",
    "\n",
    "The origin of the dataset is [here](https://archive.ics.uci.edu/ml/datasets/wholesale+customers)."
   ]
  },
  {
   "cell_type": "code",
   "execution_count": 227,
   "metadata": {},
   "outputs": [],
   "source": [
    "# loading the data:\n",
    "customers = pd.read_csv('../data/Wholesale customers data.csv')"
   ]
  },
  {
   "cell_type": "code",
   "execution_count": 228,
   "metadata": {},
   "outputs": [
    {
     "data": {
      "text/html": [
       "<div>\n",
       "<style scoped>\n",
       "    .dataframe tbody tr th:only-of-type {\n",
       "        vertical-align: middle;\n",
       "    }\n",
       "\n",
       "    .dataframe tbody tr th {\n",
       "        vertical-align: top;\n",
       "    }\n",
       "\n",
       "    .dataframe thead th {\n",
       "        text-align: right;\n",
       "    }\n",
       "</style>\n",
       "<table border=\"1\" class=\"dataframe\">\n",
       "  <thead>\n",
       "    <tr style=\"text-align: right;\">\n",
       "      <th></th>\n",
       "      <th>Channel</th>\n",
       "      <th>Region</th>\n",
       "      <th>Fresh</th>\n",
       "      <th>Milk</th>\n",
       "      <th>Grocery</th>\n",
       "      <th>Frozen</th>\n",
       "      <th>Detergents_Paper</th>\n",
       "      <th>Delicassen</th>\n",
       "    </tr>\n",
       "  </thead>\n",
       "  <tbody>\n",
       "    <tr>\n",
       "      <th>0</th>\n",
       "      <td>2</td>\n",
       "      <td>3</td>\n",
       "      <td>12669</td>\n",
       "      <td>9656</td>\n",
       "      <td>7561</td>\n",
       "      <td>214</td>\n",
       "      <td>2674</td>\n",
       "      <td>1338</td>\n",
       "    </tr>\n",
       "    <tr>\n",
       "      <th>1</th>\n",
       "      <td>2</td>\n",
       "      <td>3</td>\n",
       "      <td>7057</td>\n",
       "      <td>9810</td>\n",
       "      <td>9568</td>\n",
       "      <td>1762</td>\n",
       "      <td>3293</td>\n",
       "      <td>1776</td>\n",
       "    </tr>\n",
       "    <tr>\n",
       "      <th>2</th>\n",
       "      <td>2</td>\n",
       "      <td>3</td>\n",
       "      <td>6353</td>\n",
       "      <td>8808</td>\n",
       "      <td>7684</td>\n",
       "      <td>2405</td>\n",
       "      <td>3516</td>\n",
       "      <td>7844</td>\n",
       "    </tr>\n",
       "    <tr>\n",
       "      <th>3</th>\n",
       "      <td>1</td>\n",
       "      <td>3</td>\n",
       "      <td>13265</td>\n",
       "      <td>1196</td>\n",
       "      <td>4221</td>\n",
       "      <td>6404</td>\n",
       "      <td>507</td>\n",
       "      <td>1788</td>\n",
       "    </tr>\n",
       "    <tr>\n",
       "      <th>4</th>\n",
       "      <td>2</td>\n",
       "      <td>3</td>\n",
       "      <td>22615</td>\n",
       "      <td>5410</td>\n",
       "      <td>7198</td>\n",
       "      <td>3915</td>\n",
       "      <td>1777</td>\n",
       "      <td>5185</td>\n",
       "    </tr>\n",
       "  </tbody>\n",
       "</table>\n",
       "</div>"
      ],
      "text/plain": [
       "   Channel  Region  Fresh  Milk  Grocery  Frozen  Detergents_Paper  Delicassen\n",
       "0        2       3  12669  9656     7561     214              2674        1338\n",
       "1        2       3   7057  9810     9568    1762              3293        1776\n",
       "2        2       3   6353  8808     7684    2405              3516        7844\n",
       "3        1       3  13265  1196     4221    6404               507        1788\n",
       "4        2       3  22615  5410     7198    3915              1777        5185"
      ]
     },
     "execution_count": 228,
     "metadata": {},
     "output_type": "execute_result"
    }
   ],
   "source": [
    "customers.head()"
   ]
  },
  {
   "cell_type": "markdown",
   "metadata": {},
   "source": [
    "#### Explore the dataset with mathematical and visualization techniques. What do you find?\n",
    "\n",
    "Checklist:\n",
    "\n",
    "* What does each column mean?\n",
    "* Any categorical data to convert?\n",
    "* Any missing data to remove?\n",
    "* Column collinearity - any high correlations?\n",
    "* Descriptive statistics - any outliers to remove?\n",
    "* Column-wise data distribution - is the distribution skewed?\n",
    "* Etc.\n",
    "\n",
    "Additional info: Over a century ago, an Italian economist named Vilfredo Pareto discovered that roughly 20% of the customers account for 80% of the typical retail sales. This is called the [Pareto principle](https://en.wikipedia.org/wiki/Pareto_principle). Check if this dataset displays this characteristic."
   ]
  },
  {
   "cell_type": "code",
   "execution_count": 229,
   "metadata": {},
   "outputs": [
    {
     "data": {
      "text/plain": [
       "Index(['Channel', 'Region', 'Fresh', 'Milk', 'Grocery', 'Frozen',\n",
       "       'Detergents_Paper', 'Delicassen'],\n",
       "      dtype='object')"
      ]
     },
     "execution_count": 229,
     "metadata": {},
     "output_type": "execute_result"
    }
   ],
   "source": [
    "# Your code here:\n",
    "customers.columns   # se observan las columnas\n"
   ]
  },
  {
   "cell_type": "code",
   "execution_count": 230,
   "metadata": {},
   "outputs": [
    {
     "name": "stdout",
     "output_type": "stream",
     "text": [
      "<class 'pandas.core.frame.DataFrame'>\n",
      "RangeIndex: 440 entries, 0 to 439\n",
      "Data columns (total 8 columns):\n",
      " #   Column            Non-Null Count  Dtype\n",
      "---  ------            --------------  -----\n",
      " 0   Channel           440 non-null    int64\n",
      " 1   Region            440 non-null    int64\n",
      " 2   Fresh             440 non-null    int64\n",
      " 3   Milk              440 non-null    int64\n",
      " 4   Grocery           440 non-null    int64\n",
      " 5   Frozen            440 non-null    int64\n",
      " 6   Detergents_Paper  440 non-null    int64\n",
      " 7   Delicassen        440 non-null    int64\n",
      "dtypes: int64(8)\n",
      "memory usage: 27.6 KB\n"
     ]
    }
   ],
   "source": [
    "customers.info()"
   ]
  },
  {
   "cell_type": "code",
   "execution_count": 231,
   "metadata": {},
   "outputs": [
    {
     "data": {
      "text/html": [
       "<div>\n",
       "<style scoped>\n",
       "    .dataframe tbody tr th:only-of-type {\n",
       "        vertical-align: middle;\n",
       "    }\n",
       "\n",
       "    .dataframe tbody tr th {\n",
       "        vertical-align: top;\n",
       "    }\n",
       "\n",
       "    .dataframe thead th {\n",
       "        text-align: right;\n",
       "    }\n",
       "</style>\n",
       "<table border=\"1\" class=\"dataframe\">\n",
       "  <thead>\n",
       "    <tr style=\"text-align: right;\">\n",
       "      <th></th>\n",
       "      <th>count</th>\n",
       "      <th>mean</th>\n",
       "      <th>std</th>\n",
       "      <th>min</th>\n",
       "      <th>25%</th>\n",
       "      <th>50%</th>\n",
       "      <th>75%</th>\n",
       "      <th>max</th>\n",
       "    </tr>\n",
       "  </thead>\n",
       "  <tbody>\n",
       "    <tr>\n",
       "      <th>Channel</th>\n",
       "      <td>440.0</td>\n",
       "      <td>1.322727</td>\n",
       "      <td>0.468052</td>\n",
       "      <td>1.0</td>\n",
       "      <td>1.00</td>\n",
       "      <td>1.0</td>\n",
       "      <td>2.00</td>\n",
       "      <td>2.0</td>\n",
       "    </tr>\n",
       "    <tr>\n",
       "      <th>Region</th>\n",
       "      <td>440.0</td>\n",
       "      <td>2.543182</td>\n",
       "      <td>0.774272</td>\n",
       "      <td>1.0</td>\n",
       "      <td>2.00</td>\n",
       "      <td>3.0</td>\n",
       "      <td>3.00</td>\n",
       "      <td>3.0</td>\n",
       "    </tr>\n",
       "    <tr>\n",
       "      <th>Fresh</th>\n",
       "      <td>440.0</td>\n",
       "      <td>12000.297727</td>\n",
       "      <td>12647.328865</td>\n",
       "      <td>3.0</td>\n",
       "      <td>3127.75</td>\n",
       "      <td>8504.0</td>\n",
       "      <td>16933.75</td>\n",
       "      <td>112151.0</td>\n",
       "    </tr>\n",
       "    <tr>\n",
       "      <th>Milk</th>\n",
       "      <td>440.0</td>\n",
       "      <td>5796.265909</td>\n",
       "      <td>7380.377175</td>\n",
       "      <td>55.0</td>\n",
       "      <td>1533.00</td>\n",
       "      <td>3627.0</td>\n",
       "      <td>7190.25</td>\n",
       "      <td>73498.0</td>\n",
       "    </tr>\n",
       "    <tr>\n",
       "      <th>Grocery</th>\n",
       "      <td>440.0</td>\n",
       "      <td>7951.277273</td>\n",
       "      <td>9503.162829</td>\n",
       "      <td>3.0</td>\n",
       "      <td>2153.00</td>\n",
       "      <td>4755.5</td>\n",
       "      <td>10655.75</td>\n",
       "      <td>92780.0</td>\n",
       "    </tr>\n",
       "    <tr>\n",
       "      <th>Frozen</th>\n",
       "      <td>440.0</td>\n",
       "      <td>3071.931818</td>\n",
       "      <td>4854.673333</td>\n",
       "      <td>25.0</td>\n",
       "      <td>742.25</td>\n",
       "      <td>1526.0</td>\n",
       "      <td>3554.25</td>\n",
       "      <td>60869.0</td>\n",
       "    </tr>\n",
       "    <tr>\n",
       "      <th>Detergents_Paper</th>\n",
       "      <td>440.0</td>\n",
       "      <td>2881.493182</td>\n",
       "      <td>4767.854448</td>\n",
       "      <td>3.0</td>\n",
       "      <td>256.75</td>\n",
       "      <td>816.5</td>\n",
       "      <td>3922.00</td>\n",
       "      <td>40827.0</td>\n",
       "    </tr>\n",
       "    <tr>\n",
       "      <th>Delicassen</th>\n",
       "      <td>440.0</td>\n",
       "      <td>1524.870455</td>\n",
       "      <td>2820.105937</td>\n",
       "      <td>3.0</td>\n",
       "      <td>408.25</td>\n",
       "      <td>965.5</td>\n",
       "      <td>1820.25</td>\n",
       "      <td>47943.0</td>\n",
       "    </tr>\n",
       "  </tbody>\n",
       "</table>\n",
       "</div>"
      ],
      "text/plain": [
       "                  count          mean           std   min      25%     50%  \\\n",
       "Channel           440.0      1.322727      0.468052   1.0     1.00     1.0   \n",
       "Region            440.0      2.543182      0.774272   1.0     2.00     3.0   \n",
       "Fresh             440.0  12000.297727  12647.328865   3.0  3127.75  8504.0   \n",
       "Milk              440.0   5796.265909   7380.377175  55.0  1533.00  3627.0   \n",
       "Grocery           440.0   7951.277273   9503.162829   3.0  2153.00  4755.5   \n",
       "Frozen            440.0   3071.931818   4854.673333  25.0   742.25  1526.0   \n",
       "Detergents_Paper  440.0   2881.493182   4767.854448   3.0   256.75   816.5   \n",
       "Delicassen        440.0   1524.870455   2820.105937   3.0   408.25   965.5   \n",
       "\n",
       "                       75%       max  \n",
       "Channel               2.00       2.0  \n",
       "Region                3.00       3.0  \n",
       "Fresh             16933.75  112151.0  \n",
       "Milk               7190.25   73498.0  \n",
       "Grocery           10655.75   92780.0  \n",
       "Frozen             3554.25   60869.0  \n",
       "Detergents_Paper   3922.00   40827.0  \n",
       "Delicassen         1820.25   47943.0  "
      ]
     },
     "execution_count": 231,
     "metadata": {},
     "output_type": "execute_result"
    }
   ],
   "source": [
    "customers.describe().T"
   ]
  },
  {
   "cell_type": "code",
   "execution_count": 232,
   "metadata": {},
   "outputs": [
    {
     "data": {
      "text/html": [
       "<div>\n",
       "<style scoped>\n",
       "    .dataframe tbody tr th:only-of-type {\n",
       "        vertical-align: middle;\n",
       "    }\n",
       "\n",
       "    .dataframe tbody tr th {\n",
       "        vertical-align: top;\n",
       "    }\n",
       "\n",
       "    .dataframe thead th {\n",
       "        text-align: right;\n",
       "    }\n",
       "</style>\n",
       "<table border=\"1\" class=\"dataframe\">\n",
       "  <thead>\n",
       "    <tr style=\"text-align: right;\">\n",
       "      <th></th>\n",
       "      <th>Channel</th>\n",
       "      <th>Region</th>\n",
       "      <th>Fresh</th>\n",
       "      <th>Milk</th>\n",
       "      <th>Grocery</th>\n",
       "      <th>Frozen</th>\n",
       "      <th>Detergents_Paper</th>\n",
       "      <th>Delicassen</th>\n",
       "    </tr>\n",
       "  </thead>\n",
       "  <tbody>\n",
       "    <tr>\n",
       "      <th>Channel</th>\n",
       "      <td>1.000000</td>\n",
       "      <td>0.062028</td>\n",
       "      <td>-0.169172</td>\n",
       "      <td>0.460720</td>\n",
       "      <td>0.608792</td>\n",
       "      <td>-0.202046</td>\n",
       "      <td>0.636026</td>\n",
       "      <td>0.056011</td>\n",
       "    </tr>\n",
       "    <tr>\n",
       "      <th>Region</th>\n",
       "      <td>0.062028</td>\n",
       "      <td>1.000000</td>\n",
       "      <td>0.055287</td>\n",
       "      <td>0.032288</td>\n",
       "      <td>0.007696</td>\n",
       "      <td>-0.021044</td>\n",
       "      <td>-0.001483</td>\n",
       "      <td>0.045212</td>\n",
       "    </tr>\n",
       "    <tr>\n",
       "      <th>Fresh</th>\n",
       "      <td>-0.169172</td>\n",
       "      <td>0.055287</td>\n",
       "      <td>1.000000</td>\n",
       "      <td>0.100510</td>\n",
       "      <td>-0.011854</td>\n",
       "      <td>0.345881</td>\n",
       "      <td>-0.101953</td>\n",
       "      <td>0.244690</td>\n",
       "    </tr>\n",
       "    <tr>\n",
       "      <th>Milk</th>\n",
       "      <td>0.460720</td>\n",
       "      <td>0.032288</td>\n",
       "      <td>0.100510</td>\n",
       "      <td>1.000000</td>\n",
       "      <td>0.728335</td>\n",
       "      <td>0.123994</td>\n",
       "      <td>0.661816</td>\n",
       "      <td>0.406368</td>\n",
       "    </tr>\n",
       "    <tr>\n",
       "      <th>Grocery</th>\n",
       "      <td>0.608792</td>\n",
       "      <td>0.007696</td>\n",
       "      <td>-0.011854</td>\n",
       "      <td>0.728335</td>\n",
       "      <td>1.000000</td>\n",
       "      <td>-0.040193</td>\n",
       "      <td>0.924641</td>\n",
       "      <td>0.205497</td>\n",
       "    </tr>\n",
       "    <tr>\n",
       "      <th>Frozen</th>\n",
       "      <td>-0.202046</td>\n",
       "      <td>-0.021044</td>\n",
       "      <td>0.345881</td>\n",
       "      <td>0.123994</td>\n",
       "      <td>-0.040193</td>\n",
       "      <td>1.000000</td>\n",
       "      <td>-0.131525</td>\n",
       "      <td>0.390947</td>\n",
       "    </tr>\n",
       "    <tr>\n",
       "      <th>Detergents_Paper</th>\n",
       "      <td>0.636026</td>\n",
       "      <td>-0.001483</td>\n",
       "      <td>-0.101953</td>\n",
       "      <td>0.661816</td>\n",
       "      <td>0.924641</td>\n",
       "      <td>-0.131525</td>\n",
       "      <td>1.000000</td>\n",
       "      <td>0.069291</td>\n",
       "    </tr>\n",
       "    <tr>\n",
       "      <th>Delicassen</th>\n",
       "      <td>0.056011</td>\n",
       "      <td>0.045212</td>\n",
       "      <td>0.244690</td>\n",
       "      <td>0.406368</td>\n",
       "      <td>0.205497</td>\n",
       "      <td>0.390947</td>\n",
       "      <td>0.069291</td>\n",
       "      <td>1.000000</td>\n",
       "    </tr>\n",
       "  </tbody>\n",
       "</table>\n",
       "</div>"
      ],
      "text/plain": [
       "                   Channel    Region     Fresh      Milk   Grocery    Frozen  \\\n",
       "Channel           1.000000  0.062028 -0.169172  0.460720  0.608792 -0.202046   \n",
       "Region            0.062028  1.000000  0.055287  0.032288  0.007696 -0.021044   \n",
       "Fresh            -0.169172  0.055287  1.000000  0.100510 -0.011854  0.345881   \n",
       "Milk              0.460720  0.032288  0.100510  1.000000  0.728335  0.123994   \n",
       "Grocery           0.608792  0.007696 -0.011854  0.728335  1.000000 -0.040193   \n",
       "Frozen           -0.202046 -0.021044  0.345881  0.123994 -0.040193  1.000000   \n",
       "Detergents_Paper  0.636026 -0.001483 -0.101953  0.661816  0.924641 -0.131525   \n",
       "Delicassen        0.056011  0.045212  0.244690  0.406368  0.205497  0.390947   \n",
       "\n",
       "                  Detergents_Paper  Delicassen  \n",
       "Channel                   0.636026    0.056011  \n",
       "Region                   -0.001483    0.045212  \n",
       "Fresh                    -0.101953    0.244690  \n",
       "Milk                      0.661816    0.406368  \n",
       "Grocery                   0.924641    0.205497  \n",
       "Frozen                   -0.131525    0.390947  \n",
       "Detergents_Paper          1.000000    0.069291  \n",
       "Delicassen                0.069291    1.000000  "
      ]
     },
     "execution_count": 232,
     "metadata": {},
     "output_type": "execute_result"
    }
   ],
   "source": [
    "customers.corr()"
   ]
  },
  {
   "cell_type": "code",
   "execution_count": 233,
   "metadata": {},
   "outputs": [
    {
     "data": {
      "text/plain": [
       "(1    298\n",
       " 2    142\n",
       " Name: Channel, dtype: int64,\n",
       " 3    316\n",
       " 1     77\n",
       " 2     47\n",
       " Name: Region, dtype: int64)"
      ]
     },
     "execution_count": 233,
     "metadata": {},
     "output_type": "execute_result"
    }
   ],
   "source": [
    "customers.Channel.value_counts(),customers.Region.value_counts()"
   ]
  },
  {
   "cell_type": "code",
   "execution_count": 234,
   "metadata": {},
   "outputs": [
    {
     "data": {
      "text/plain": [
       "<AxesSubplot:>"
      ]
     },
     "execution_count": 234,
     "metadata": {},
     "output_type": "execute_result"
    },
    {
     "data": {
      "image/png": "[encoded data removed]",
      "text/plain": [
       "<Figure size 432x288 with 1 Axes>"
      ]
     },
     "metadata": {
      "needs_background": "light"
     },
     "output_type": "display_data"
    }
   ],
   "source": [
    "customers.boxplot()"
   ]
  },
  {
   "cell_type": "code",
   "execution_count": 235,
   "metadata": {},
   "outputs": [
    {
     "data": {
      "text/plain": [
       "Index(['Channel', 'Region', 'Fresh', 'Milk', 'Grocery', 'Frozen',\n",
       "       'Detergents_Paper', 'Delicassen'],\n",
       "      dtype='object')"
      ]
     },
     "execution_count": 235,
     "metadata": {},
     "output_type": "execute_result"
    }
   ],
   "source": [
    "customers.columns"
   ]
  },
  {
   "cell_type": "code",
   "execution_count": 236,
   "metadata": {},
   "outputs": [
    {
     "data": {
      "text/plain": [
       "(440, 8)"
      ]
     },
     "execution_count": 236,
     "metadata": {},
     "output_type": "execute_result"
    }
   ],
   "source": [
    "customers.shape"
   ]
  },
  {
   "cell_type": "code",
   "execution_count": 237,
   "metadata": {},
   "outputs": [
    {
     "data": {
      "text/plain": [
       "array([ 12669,   7057,   6353,  13265,  22615,   9413,  12126,   7579,\n",
       "         5963,   6006,   3366,  13146,  31714,  21217,  24653,  10253,\n",
       "         1020,   5876,  18601,   7780,  17546,   5567,  31276,  26373,\n",
       "        22647,  16165,   9898,  14276,   4113,  43088,  18815,   2612,\n",
       "        21632,  29729,   1502,    688,  29955,  15168,   4591,  56159,\n",
       "        24025,  19176,  10850,    630,   9670,   5181,   3103,  44466,\n",
       "        11519,   4967,   6269,   3347,  40721,    491,  27329,   5264,\n",
       "         4098,   5417,  13779,   6137,   8590,  35942,   7823,   9396,\n",
       "         4760,     85,      9,  19913,   2446,   8352,  16705,  18291,\n",
       "         4420,  19899,   8190,  20398,    717,  12205,  10766,   1640,\n",
       "         7005,    219,  10362,  20874,  11867,  16117,  22925,  43265,\n",
       "         7864,  24904,  11405,  12754,   9198,  11314,   5626,      3,\n",
       "           23,    403,    503,   9658,  11594,   1420,   2932,  56082,\n",
       "        14100,  15587,   1454,   8797,   1531,   1406,  11818,  12579,\n",
       "        19046,  14438,  18044,  11134,  11173,   6990,  20049,   8258,\n",
       "        17160,   4020,  12212,  11170,  36050,  76237,  19219,  21465,\n",
       "          140,  42312,   7149,   2101,  14903,   9434,   7388,   6300,\n",
       "         4625,   3087,  13537,   5387,  17623,  30379,  37036,  10405,\n",
       "        18827,  22039,   7769,   9203,   5924,  31812,  16225,   1289,\n",
       "        18840,   3463,    622,   1989,   3830,  17773,   2861,    355,\n",
       "         1725,  12434,  15177,   5531,   5224,  15615,   4822,   2926,\n",
       "         5809,   5414,    260,    200,    955,    514,    286,   2343,\n",
       "        45640,  12759,  11002,   3157,  12356, 112151,    694,  36847,\n",
       "          327,   8170,   3009,   2438,   8040,    834,  16936,  13624,\n",
       "         5509,    180,   7107,  17023,  30624,   2427,  11686,   3067,\n",
       "         4484,  25203,    583,   1956,   1107,   6373,   2541,   1537,\n",
       "         5550,  18567,  12119,   7291,   3317,   2362,   2806,   2532,\n",
       "           18,   4155,  14755,   5396,   5041,   2790,   7274,  12680,\n",
       "        20782,   4042,   1869,   8656,  11072,   2344,  25962,    964,\n",
       "        15603,   1838,   8635,  18692,   7363,  47493,  22096,  24929,\n",
       "        18226,  11210,   6202,   3062,   8885,  13569,  15671,   3191,\n",
       "         6134,   6623,  29526,  10379,  31614,  11092,   8475,  56083,\n",
       "        53205,   9193,   7858,  23257,   2153,   1073,   5909,    572,\n",
       "        20893,  11908,  15218,   4720,   2083,  36817,    894,    680,\n",
       "        27901,   9061,  11693,  17360,  12238,  49063,  25767,  68951,\n",
       "        40254,  15354,  16260,  42786,   2708,   6022,   2838,   3996,\n",
       "        21273,   7588,  19087,   8090,   6758,    444,  16448,   5283,\n",
       "         2886,   2599,    161,    243,   6468,  17327,   6987,    918,\n",
       "         7034,  29635,   2137,   9784,  10617,   1479,   7127,   1182,\n",
       "        11800,   9759,   1774,   9155,  15881,  13360,  25977,  32717,\n",
       "         4414,    542,  16933,   5113,   9790,  11223,  22321,   8565,\n",
       "        16823,  27082,  13970,   9351,   2617,    381,   2320,    255,\n",
       "         1689,   3043,   1198,   2771,  27380,   3428,   5981,   3521,\n",
       "         1210,    608,    117,  14039,    190,  22686,     37,    759,\n",
       "          796,  19746,   4734,   2121,   4627,   2615,   4692,   9561,\n",
       "         3477,  22335,   6211,  39679,  20105,   3884,  15076,   6338,\n",
       "         5841,   3136,  38793,   3225,   4048,  28257,  17770,  34454,\n",
       "         1821,  10683,  11635,   1206,  20918,   9785,   9385,   3352,\n",
       "         2647,    518,  23632,  12377,   9602,   4515,  11535,  11442,\n",
       "         9612,   4446,  27167,  26539,  25606,  18073,   6884,  25066,\n",
       "         7362,   8257,   8708,   6633,   2126,     97,   4983,   5969,\n",
       "         7842,   4389,   5065,    660,   8861,   4456,  17063,  26400,\n",
       "        17565,  16980,  11243,  13134,  31012,   3047,   8607,   3097,\n",
       "         8533,  21117,   1982,  16731,  29703,  39228,  14531,  10290,\n",
       "         2787], dtype=int64)"
      ]
     },
     "execution_count": 237,
     "metadata": {},
     "output_type": "execute_result"
    }
   ],
   "source": [
    "customers.Fresh.unique()"
   ]
  },
  {
   "cell_type": "markdown",
   "metadata": {},
   "source": [
    "**Your observations here**\n",
    "\n",
    "+ El 80% de clientes esta en la region 3\n",
    "+ Las medias son muy dispares entre columnas\n",
    "+ Todo son columnas numéricas\n",
    "+ Hay outliers\n",
    "\n"
   ]
  },
  {
   "cell_type": "markdown",
   "metadata": {},
   "source": [
    "# Challenge 2 - Data Cleaning and Transformation\n",
    "\n",
    "If your conclusion from the previous challenge is the data need cleaning/transformation, do it in the cells below. However, if your conclusion is the data need not be cleaned or transformed, feel free to skip this challenge. But if you do choose the latter, please provide rationale."
   ]
  },
  {
   "cell_type": "code",
   "execution_count": 238,
   "metadata": {},
   "outputs": [
    {
     "name": "stderr",
     "output_type": "stream",
     "text": [
      "C:\\Users\\sersu\\AppData\\Local\\Temp\\ipykernel_8372\\4013228573.py:22: FutureWarning: The frame.append method is deprecated and will be removed from pandas in a future version. Use pandas.concat instead.\n",
      "  outliers=outliers.append(res, sort=True)\n",
      "C:\\Users\\sersu\\AppData\\Local\\Temp\\ipykernel_8372\\4013228573.py:22: FutureWarning: The frame.append method is deprecated and will be removed from pandas in a future version. Use pandas.concat instead.\n",
      "  outliers=outliers.append(res, sort=True)\n",
      "C:\\Users\\sersu\\AppData\\Local\\Temp\\ipykernel_8372\\4013228573.py:22: FutureWarning: The frame.append method is deprecated and will be removed from pandas in a future version. Use pandas.concat instead.\n",
      "  outliers=outliers.append(res, sort=True)\n",
      "C:\\Users\\sersu\\AppData\\Local\\Temp\\ipykernel_8372\\4013228573.py:22: FutureWarning: The frame.append method is deprecated and will be removed from pandas in a future version. Use pandas.concat instead.\n",
      "  outliers=outliers.append(res, sort=True)\n",
      "C:\\Users\\sersu\\AppData\\Local\\Temp\\ipykernel_8372\\4013228573.py:22: FutureWarning: The frame.append method is deprecated and will be removed from pandas in a future version. Use pandas.concat instead.\n",
      "  outliers=outliers.append(res, sort=True)\n",
      "C:\\Users\\sersu\\AppData\\Local\\Temp\\ipykernel_8372\\4013228573.py:22: FutureWarning: The frame.append method is deprecated and will be removed from pandas in a future version. Use pandas.concat instead.\n",
      "  outliers=outliers.append(res, sort=True)\n",
      "C:\\Users\\sersu\\AppData\\Local\\Temp\\ipykernel_8372\\4013228573.py:22: FutureWarning: The frame.append method is deprecated and will be removed from pandas in a future version. Use pandas.concat instead.\n",
      "  outliers=outliers.append(res, sort=True)\n",
      "C:\\Users\\sersu\\AppData\\Local\\Temp\\ipykernel_8372\\4013228573.py:22: FutureWarning: The frame.append method is deprecated and will be removed from pandas in a future version. Use pandas.concat instead.\n",
      "  outliers=outliers.append(res, sort=True)\n"
     ]
    }
   ],
   "source": [
    "# Limpiamos outliers\n",
    "\n",
    "stats=customers.describe().T\n",
    "\n",
    "stats['IQR']=stats['75%']-stats['25%']\n",
    "\n",
    "outliers=pd.DataFrame(columns=stats.index)\n",
    "\n",
    "for c in stats.index:\n",
    "    \n",
    "    iqr=stats.at[c, 'IQR']\n",
    "    \n",
    "    cutoff=1.5 * iqr   # test de tukey\n",
    "    \n",
    "    lower=stats.at[c, '25%'] - cutoff\n",
    "    upper=stats.at[c, '75%'] + cutoff\n",
    "    \n",
    "    res=customers[(customers[c] < lower) | (customers[c] > upper)].copy()\n",
    "    \n",
    "    res['outliers']=c\n",
    "    \n",
    "    outliers=outliers.append(res, sort=True)\n",
    "    \n",
    "outliers['outliers'].value_counts()\n",
    "\n",
    "\n",
    "\n",
    "clean_index=[i for i in customers.index if i not in outliers.index]\n",
    "\n",
    "customers=customers.iloc[clean_index]"
   ]
  },
  {
   "cell_type": "code",
   "execution_count": 239,
   "metadata": {},
   "outputs": [],
   "source": [
    "customers.drop(columns=['Channel','Region'], inplace=True)"
   ]
  },
  {
   "cell_type": "markdown",
   "metadata": {},
   "source": [
    "**Your comment here**\n",
    "\n",
    "+ Limpiamos outliers \n",
    "+ Damos de baja Channel y Region al no tener que ver con el resto de valores\n"
   ]
  },
  {
   "cell_type": "markdown",
   "metadata": {},
   "source": [
    "# Challenge 3 - Data Preprocessing\n",
    "\n",
    "One problem with the dataset is the value ranges are remarkably different across various categories (e.g. `Fresh` and `Grocery` compared to `Detergents_Paper` and `Delicassen`). If you made this observation in the first challenge, you've done a great job! This means you not only completed the bonus questions in the previous Supervised Learning lab but also researched deep into [*feature scaling*](https://en.wikipedia.org/wiki/Feature_scaling). Keep on the good work!\n",
    "\n",
    "Diverse value ranges in different features could cause issues in our clustering. The way to reduce the problem is through feature scaling. We'll use this technique again with this dataset.\n",
    "\n",
    "#### We will use the `StandardScaler` from `sklearn.preprocessing` and scale our data. Read more about `StandardScaler` [here](https://scikit-learn.org/stable/modules/generated/sklearn.preprocessing.StandardScaler.html#sklearn.preprocessing.StandardScaler).\n",
    "\n",
    "*After scaling your data, assign the transformed data to a new variable `customers_scale`.*"
   ]
  },
  {
   "cell_type": "code",
   "execution_count": 240,
   "metadata": {},
   "outputs": [],
   "source": [
    "# Your import here:\n",
    "\n",
    "from sklearn.preprocessing import StandardScaler\n",
    "\n",
    "# Your code here:\n",
    "customers_scale=StandardScaler().fit_transform(customers)\n"
   ]
  },
  {
   "cell_type": "markdown",
   "metadata": {},
   "source": [
    "# Challenge 4 - Data Clustering with K-Means\n",
    "\n",
    "Now let's cluster the data with K-Means first. Initiate the K-Means model, then fit your scaled data. In the data returned from the `.fit` method, there is an attribute called `labels_` which is the cluster number assigned to each data record. What you can do is to assign these labels back to `customers` in a new column called `customers['labels']`. Then you'll see the cluster results of the original data."
   ]
  },
  {
   "cell_type": "code",
   "execution_count": 241,
   "metadata": {
    "scrolled": true
   },
   "outputs": [
    {
     "data": {
      "text/plain": [
       "{'Fresh': 1.1245270698282643,\n",
       " 'Milk': 0.5009798176813117,\n",
       " 'Grocery': 0.3916110170552681,\n",
       " 'Frozen': -0.18922897168517694,\n",
       " 'Detergents_Paper': 0.07091927536159384,\n",
       " 'Delicassen': 1.7756277184886824}"
      ]
     },
     "execution_count": 241,
     "metadata": {},
     "output_type": "execute_result"
    }
   ],
   "source": [
    "from sklearn.cluster import KMeans\n",
    "\n",
    "kmeans=KMeans(n_clusters=6)\n",
    "clusters=kmeans.fit(customers_scale)\n",
    "\n",
    "preds=clusters.fit_predict(customers_scale)\n",
    "\n",
    "\n",
    "\n",
    "dict(zip(customers.columns, clusters.cluster_centers_[0]))\n"
   ]
  },
  {
   "cell_type": "markdown",
   "metadata": {},
   "source": [
    "Count the values in `labels`."
   ]
  },
  {
   "cell_type": "code",
   "execution_count": 242,
   "metadata": {},
   "outputs": [
    {
     "data": {
      "text/plain": [
       "5    110\n",
       "3     55\n",
       "1     49\n",
       "4     44\n",
       "2     40\n",
       "0     34\n",
       "Name: labels, dtype: int64"
      ]
     },
     "execution_count": 242,
     "metadata": {},
     "output_type": "execute_result"
    }
   ],
   "source": [
    "customers['labels']=preds\n",
    "\n",
    "customers.labels.value_counts()\n"
   ]
  },
  {
   "cell_type": "markdown",
   "metadata": {},
   "source": [
    "# Challenge 5 - Data Clustering with DBSCAN\n",
    "\n",
    "Now let's cluster the data using DBSCAN. Use `DBSCAN(eps=0.5)` to initiate the model, then fit your scaled data. In the data returned from the `.fit` method, assign the `labels_` back to `customers['labels_DBSCAN']`. Now your original data have two labels, one from K-Means and the other from DBSCAN."
   ]
  },
  {
   "cell_type": "code",
   "execution_count": 243,
   "metadata": {
    "scrolled": true
   },
   "outputs": [],
   "source": [
    "# Your code here\n",
    "from sklearn.cluster import DBSCAN \n",
    "\n",
    "dbscan=DBSCAN(eps=0.5)\n",
    "\n",
    "pred_deb=dbscan.fit(customers_scale).labels_\n"
   ]
  },
  {
   "cell_type": "markdown",
   "metadata": {},
   "source": [
    "Count the values in `labels_DBSCAN`."
   ]
  },
  {
   "cell_type": "code",
   "execution_count": 244,
   "metadata": {},
   "outputs": [
    {
     "data": {
      "text/plain": [
       "-1    291\n",
       " 0     37\n",
       " 1      4\n",
       "Name: labels_DBSCAN, dtype: int64"
      ]
     },
     "execution_count": 244,
     "metadata": {},
     "output_type": "execute_result"
    }
   ],
   "source": [
    "# Your code here\n",
    "\n",
    "customers['labels_DBSCAN']=pred_deb\n",
    "\n",
    "customers['labels_DBSCAN'].value_counts()\n"
   ]
  },
  {
   "cell_type": "markdown",
   "metadata": {},
   "source": [
    "# Challenge 6 - Compare K-Means with DBSCAN\n",
    "\n",
    "Now we want to visually compare how K-Means and DBSCAN have clustered our data. We will create scatter plots for several columns. For each of the following column pairs, plot a scatter plot using `labels` and another using `labels_DBSCAN`. Put them side by side to compare. Which clustering algorithm makes better sense?\n",
    "\n",
    "Columns to visualize:\n",
    "\n",
    "* `Detergents_Paper` as X and `Milk` as y\n",
    "* `Grocery` as X and `Fresh` as y\n",
    "* `Frozen` as X and `Delicassen` as y"
   ]
  },
  {
   "cell_type": "markdown",
   "metadata": {},
   "source": [
    "Visualize `Detergents_Paper` as X and `Milk` as y by `labels` and `labels_DBSCAN` respectively"
   ]
  },
  {
   "cell_type": "code",
   "execution_count": 245,
   "metadata": {},
   "outputs": [],
   "source": [
    "customers.head()\n",
    "from sklearn import cluster, datasets\n",
    "\n",
    "kmeans=cluster.KMeans(n_clusters=2).fit(customers)\n",
    "y_pred1=kmeans.predict(customers)\n",
    "centers=kmeans.cluster_centers_"
   ]
  },
  {
   "cell_type": "code",
   "execution_count": 246,
   "metadata": {},
   "outputs": [
    {
     "data": {
      "text/plain": [
       "array([[ 5.22373729e+03,  4.35598729e+03,  6.25847881e+03,\n",
       "         1.75398305e+03,  2.27403814e+03,  9.24317797e+02,\n",
       "         3.20338983e+00, -8.09322034e-01],\n",
       "       [ 2.01763958e+04,  3.48861458e+03,  4.93440625e+03,\n",
       "         2.13116667e+03,  1.18444792e+03,  1.24346875e+03,\n",
       "         2.75000000e+00, -1.00000000e+00]])"
      ]
     },
     "execution_count": 246,
     "metadata": {},
     "output_type": "execute_result"
    }
   ],
   "source": [
    "kmeans.cluster_centers_"
   ]
  },
  {
   "cell_type": "code",
   "execution_count": 247,
   "metadata": {},
   "outputs": [
    {
     "data": {
      "image/png": "[encoded data removed]",
      "text/plain": [
       "<Figure size 864x432 with 1 Axes>"
      ]
     },
     "metadata": {
      "needs_background": "light"
     },
     "output_type": "display_data"
    }
   ],
   "source": [
    "# Your code here:\n",
    "\n",
    "plt.figure(figsize=(12,6))\n",
    "plt.scatter(customers.Detergents_Paper, customers.Milk,c=y_pred1);\n"
   ]
  },
  {
   "cell_type": "code",
   "execution_count": 248,
   "metadata": {},
   "outputs": [
    {
     "data": {
      "image/png": "[encoded data removed]",
      "text/plain": [
       "<Figure size 432x288 with 1 Axes>"
      ]
     },
     "metadata": {
      "needs_background": "light"
     },
     "output_type": "display_data"
    }
   ],
   "source": [
    "plt.scatter(customers.Detergents_Paper,   # x\n",
    "            customers.Milk,   # y\n",
    "            c=dbscan.labels_);     # color"
   ]
  },
  {
   "cell_type": "markdown",
   "metadata": {},
   "source": [
    "Visualize `Grocery` as X and `Fresh` as y by `labels` and `labels_DBSCAN` respectively"
   ]
  },
  {
   "cell_type": "code",
   "execution_count": 249,
   "metadata": {},
   "outputs": [
    {
     "data": {
      "image/png": "[encoded data removed]",
      "text/plain": [
       "<Figure size 864x432 with 1 Axes>"
      ]
     },
     "metadata": {
      "needs_background": "light"
     },
     "output_type": "display_data"
    }
   ],
   "source": [
    "# Your code here:\n",
    "plt.figure(figsize=(12,6))\n",
    "plt.scatter(customers.Grocery, customers.Fresh,c=y_pred1);\n"
   ]
  },
  {
   "cell_type": "code",
   "execution_count": 250,
   "metadata": {},
   "outputs": [
    {
     "data": {
      "image/png": "[encoded data removed]",
      "text/plain": [
       "<Figure size 432x288 with 1 Axes>"
      ]
     },
     "metadata": {
      "needs_background": "light"
     },
     "output_type": "display_data"
    }
   ],
   "source": [
    "plt.scatter(customers.Grocery,   # x\n",
    "            customers.Fresh,   # y\n",
    "            c=dbscan.labels_);     # color"
   ]
  },
  {
   "cell_type": "markdown",
   "metadata": {},
   "source": [
    "Visualize `Frozen` as X and `Delicassen` as y by `labels` and `labels_DBSCAN` respectively"
   ]
  },
  {
   "cell_type": "code",
   "execution_count": 251,
   "metadata": {},
   "outputs": [
    {
     "data": {
      "image/png": "[encoded data removed]",
      "text/plain": [
       "<Figure size 864x432 with 1 Axes>"
      ]
     },
     "metadata": {
      "needs_background": "light"
     },
     "output_type": "display_data"
    }
   ],
   "source": [
    "# Your code here:\n",
    "plt.figure(figsize=(12,6))\n",
    "plt.scatter(customers.Frozen, customers.Delicassen,c=y_pred1);\n"
   ]
  },
  {
   "cell_type": "code",
   "execution_count": 252,
   "metadata": {},
   "outputs": [
    {
     "data": {
      "image/png": "[encoded data removed]",
      "text/plain": [
       "<Figure size 432x288 with 1 Axes>"
      ]
     },
     "metadata": {
      "needs_background": "light"
     },
     "output_type": "display_data"
    }
   ],
   "source": [
    "plt.scatter(customers.Frozen,   # x\n",
    "            customers.Delicassen,   # y\n",
    "            c=dbscan.labels_);     # color"
   ]
  },
  {
   "cell_type": "markdown",
   "metadata": {},
   "source": [
    "Let's use a groupby to see how the mean differs between the groups. Group `customers` by `labels` and `labels_DBSCAN` respectively and compute the means for all columns."
   ]
  },
  {
   "cell_type": "code",
   "execution_count": 253,
   "metadata": {},
   "outputs": [
    {
     "data": {
      "text/html": [
       "<div>\n",
       "<style scoped>\n",
       "    .dataframe tbody tr th:only-of-type {\n",
       "        vertical-align: middle;\n",
       "    }\n",
       "\n",
       "    .dataframe tbody tr th {\n",
       "        vertical-align: top;\n",
       "    }\n",
       "\n",
       "    .dataframe thead th {\n",
       "        text-align: right;\n",
       "    }\n",
       "</style>\n",
       "<table border=\"1\" class=\"dataframe\">\n",
       "  <thead>\n",
       "    <tr style=\"text-align: right;\">\n",
       "      <th></th>\n",
       "      <th>Fresh</th>\n",
       "      <th>Milk</th>\n",
       "      <th>Grocery</th>\n",
       "      <th>Frozen</th>\n",
       "      <th>Detergents_Paper</th>\n",
       "      <th>Delicassen</th>\n",
       "      <th>labels_DBSCAN</th>\n",
       "    </tr>\n",
       "    <tr>\n",
       "      <th>labels</th>\n",
       "      <th></th>\n",
       "      <th></th>\n",
       "      <th></th>\n",
       "      <th></th>\n",
       "      <th></th>\n",
       "      <th></th>\n",
       "      <th></th>\n",
       "    </tr>\n",
       "  </thead>\n",
       "  <tbody>\n",
       "    <tr>\n",
       "      <th>0</th>\n",
       "      <td>18711.764706</td>\n",
       "      <td>5787.588235</td>\n",
       "      <td>7845.941176</td>\n",
       "      <td>1540.352941</td>\n",
       "      <td>2125.205882</td>\n",
       "      <td>2478.147059</td>\n",
       "      <td>-1.000000</td>\n",
       "    </tr>\n",
       "    <tr>\n",
       "      <th>1</th>\n",
       "      <td>5848.081633</td>\n",
       "      <td>5490.551020</td>\n",
       "      <td>7782.775510</td>\n",
       "      <td>865.693878</td>\n",
       "      <td>2759.367347</td>\n",
       "      <td>692.040816</td>\n",
       "      <td>-1.000000</td>\n",
       "    </tr>\n",
       "    <tr>\n",
       "      <th>2</th>\n",
       "      <td>7812.925000</td>\n",
       "      <td>2808.400000</td>\n",
       "      <td>3220.725000</td>\n",
       "      <td>5281.250000</td>\n",
       "      <td>813.975000</td>\n",
       "      <td>937.575000</td>\n",
       "      <td>-1.000000</td>\n",
       "    </tr>\n",
       "    <tr>\n",
       "      <th>3</th>\n",
       "      <td>5113.581818</td>\n",
       "      <td>8849.981818</td>\n",
       "      <td>14403.709091</td>\n",
       "      <td>1342.600000</td>\n",
       "      <td>6204.981818</td>\n",
       "      <td>1327.563636</td>\n",
       "      <td>-1.000000</td>\n",
       "    </tr>\n",
       "    <tr>\n",
       "      <th>4</th>\n",
       "      <td>22166.522727</td>\n",
       "      <td>2164.477273</td>\n",
       "      <td>2882.295455</td>\n",
       "      <td>2235.750000</td>\n",
       "      <td>425.909091</td>\n",
       "      <td>796.750000</td>\n",
       "      <td>-1.000000</td>\n",
       "    </tr>\n",
       "    <tr>\n",
       "      <th>5</th>\n",
       "      <td>6162.627273</td>\n",
       "      <td>1843.481818</td>\n",
       "      <td>2315.745455</td>\n",
       "      <td>1275.227273</td>\n",
       "      <td>457.645455</td>\n",
       "      <td>670.627273</td>\n",
       "      <td>-0.590909</td>\n",
       "    </tr>\n",
       "  </tbody>\n",
       "</table>\n",
       "</div>"
      ],
      "text/plain": [
       "               Fresh         Milk       Grocery       Frozen  \\\n",
       "labels                                                         \n",
       "0       18711.764706  5787.588235   7845.941176  1540.352941   \n",
       "1        5848.081633  5490.551020   7782.775510   865.693878   \n",
       "2        7812.925000  2808.400000   3220.725000  5281.250000   \n",
       "3        5113.581818  8849.981818  14403.709091  1342.600000   \n",
       "4       22166.522727  2164.477273   2882.295455  2235.750000   \n",
       "5        6162.627273  1843.481818   2315.745455  1275.227273   \n",
       "\n",
       "        Detergents_Paper   Delicassen  labels_DBSCAN  \n",
       "labels                                                \n",
       "0            2125.205882  2478.147059      -1.000000  \n",
       "1            2759.367347   692.040816      -1.000000  \n",
       "2             813.975000   937.575000      -1.000000  \n",
       "3            6204.981818  1327.563636      -1.000000  \n",
       "4             425.909091   796.750000      -1.000000  \n",
       "5             457.645455   670.627273      -0.590909  "
      ]
     },
     "execution_count": 253,
     "metadata": {},
     "output_type": "execute_result"
    }
   ],
   "source": [
    "# Your code here:\n",
    "customers.groupby(['labels']).mean()\n"
   ]
  },
  {
   "cell_type": "markdown",
   "metadata": {},
   "source": [
    "Which algorithm appears to perform better?"
   ]
  },
  {
   "cell_type": "code",
   "execution_count": 254,
   "metadata": {},
   "outputs": [
    {
     "data": {
      "text/html": [
       "<div>\n",
       "<style scoped>\n",
       "    .dataframe tbody tr th:only-of-type {\n",
       "        vertical-align: middle;\n",
       "    }\n",
       "\n",
       "    .dataframe tbody tr th {\n",
       "        vertical-align: top;\n",
       "    }\n",
       "\n",
       "    .dataframe thead th {\n",
       "        text-align: right;\n",
       "    }\n",
       "</style>\n",
       "<table border=\"1\" class=\"dataframe\">\n",
       "  <thead>\n",
       "    <tr style=\"text-align: right;\">\n",
       "      <th></th>\n",
       "      <th>Fresh</th>\n",
       "      <th>Milk</th>\n",
       "      <th>Grocery</th>\n",
       "      <th>Frozen</th>\n",
       "      <th>Detergents_Paper</th>\n",
       "      <th>Delicassen</th>\n",
       "      <th>labels</th>\n",
       "    </tr>\n",
       "    <tr>\n",
       "      <th>labels_DBSCAN</th>\n",
       "      <th></th>\n",
       "      <th></th>\n",
       "      <th></th>\n",
       "      <th></th>\n",
       "      <th></th>\n",
       "      <th></th>\n",
       "      <th></th>\n",
       "    </tr>\n",
       "  </thead>\n",
       "  <tbody>\n",
       "    <tr>\n",
       "      <th>-1</th>\n",
       "      <td>10215.890034</td>\n",
       "      <td>4508.738832</td>\n",
       "      <td>6477.869416</td>\n",
       "      <td>1996.848797</td>\n",
       "      <td>2191.996564</td>\n",
       "      <td>1104.257732</td>\n",
       "      <td>2.800687</td>\n",
       "    </tr>\n",
       "    <tr>\n",
       "      <th>0</th>\n",
       "      <td>4938.648649</td>\n",
       "      <td>1167.594595</td>\n",
       "      <td>1574.513514</td>\n",
       "      <td>818.810811</td>\n",
       "      <td>287.972973</td>\n",
       "      <td>354.432432</td>\n",
       "      <td>5.000000</td>\n",
       "    </tr>\n",
       "    <tr>\n",
       "      <th>1</th>\n",
       "      <td>3545.500000</td>\n",
       "      <td>1919.000000</td>\n",
       "      <td>1846.750000</td>\n",
       "      <td>1788.250000</td>\n",
       "      <td>463.500000</td>\n",
       "      <td>764.750000</td>\n",
       "      <td>5.000000</td>\n",
       "    </tr>\n",
       "  </tbody>\n",
       "</table>\n",
       "</div>"
      ],
      "text/plain": [
       "                      Fresh         Milk      Grocery       Frozen  \\\n",
       "labels_DBSCAN                                                        \n",
       "-1             10215.890034  4508.738832  6477.869416  1996.848797   \n",
       " 0              4938.648649  1167.594595  1574.513514   818.810811   \n",
       " 1              3545.500000  1919.000000  1846.750000  1788.250000   \n",
       "\n",
       "               Detergents_Paper   Delicassen    labels  \n",
       "labels_DBSCAN                                           \n",
       "-1                  2191.996564  1104.257732  2.800687  \n",
       " 0                   287.972973   354.432432  5.000000  \n",
       " 1                   463.500000   764.750000  5.000000  "
      ]
     },
     "execution_count": 254,
     "metadata": {},
     "output_type": "execute_result"
    }
   ],
   "source": [
    "customers.groupby(['labels_DBSCAN']).mean()\n"
   ]
  },
  {
   "cell_type": "markdown",
   "metadata": {},
   "source": [
    "**Your observations here**\n",
    "\n",
    " Me cuesta un poco ver cual de los dos modelos clusteriza mejor a traves de sus medias. Si fuera por los graficos diria que kmeans funciona mejor, aunque si fuera por la diferencia de medias podria ser DBSCAN. Para mi ninguno de los dos esta haciendo buenos clusters. "
   ]
  },
  {
   "cell_type": "markdown",
   "metadata": {},
   "source": [
    "# Bonus Challenge 2 - Changing K-Means Number of Clusters\n",
    "\n",
    "As we mentioned earlier, we don't need to worry about the number of clusters with DBSCAN because it automatically decides that based on the parameters we send to it. But with K-Means, we have to supply the `n_clusters` param (if you don't supply `n_clusters`, the algorithm will use `8` by default). You need to know that the optimal number of clusters differs case by case based on the dataset. K-Means can perform badly if the wrong number of clusters is used.\n",
    "\n",
    "In advanced machine learning, data scientists try different numbers of clusters and evaluate the results with statistical measures (read [here](https://en.wikipedia.org/wiki/Cluster_analysis#External_evaluation)). We are not using statistical measures today but we'll use our eyes instead. In the cells below, experiment with different number of clusters and visualize with scatter plots. What number of clusters seems to work best for K-Means?"
   ]
  },
  {
   "cell_type": "code",
   "execution_count": 255,
   "metadata": {},
   "outputs": [
    {
     "name": "stderr",
     "output_type": "stream",
     "text": [
      "c:\\Users\\sersu\\anaconda3\\lib\\site-packages\\sklearn\\cluster\\_kmeans.py:1036: UserWarning: KMeans is known to have a memory leak on Windows with MKL, when there are less chunks than available threads. You can avoid it by setting the environment variable OMP_NUM_THREADS=2.\n",
      "  warnings.warn(\n",
      "c:\\Users\\sersu\\anaconda3\\lib\\site-packages\\sklearn\\cluster\\_kmeans.py:1036: UserWarning: KMeans is known to have a memory leak on Windows with MKL, when there are less chunks than available threads. You can avoid it by setting the environment variable OMP_NUM_THREADS=2.\n",
      "  warnings.warn(\n"
     ]
    },
    {
     "data": {
      "image/png": "[encoded data removed]",
      "text/plain": [
       "<Figure size 432x288 with 2 Axes>"
      ]
     },
     "metadata": {},
     "output_type": "display_data"
    }
   ],
   "source": [
    "from sklearn import cluster, datasets\n",
    "customers_scale=StandardScaler().fit_transform(customers)\n",
    "n_clusters, inercia = zip(*[(k, cluster.KMeans(n_clusters=k).fit(customers_scale).inertia_) for k in range(1, 10)])\n",
    "fig=plt.figure()\n",
    "\n",
    "ax=fig.add_subplot()\n",
    "\n",
    "ax.plot(n_clusters, inercia);\n",
    "\n",
    "from yellowbrick.cluster import KElbowVisualizer\n",
    "\n",
    "modelo=cluster.KMeans()\n",
    "\n",
    "visual=KElbowVisualizer(modelo, k=(1, 15))\n",
    "visual.fit(customers_scale)\n",
    "\n",
    "visual.poof();"
   ]
  },
  {
   "cell_type": "code",
   "execution_count": 256,
   "metadata": {},
   "outputs": [
    {
     "data": {
      "text/plain": [
       "{'Fresh': 0.25426476764819056,\n",
       " 'Milk': -0.5463415455955776,\n",
       " 'Grocery': -0.5906044286870438,\n",
       " 'Frozen': 0.4065894216689894,\n",
       " 'Detergents_Paper': -0.6090996461698363,\n",
       " 'Delicassen': -0.2491427816053608,\n",
       " 'labels': 0.46863453508341346,\n",
       " 'labels_DBSCAN': -0.36062369708924963}"
      ]
     },
     "execution_count": 256,
     "metadata": {},
     "output_type": "execute_result"
    }
   ],
   "source": [
    "kmeans=KMeans(n_clusters=4)\n",
    "clusters=kmeans.fit(customers_scale)\n",
    "\n",
    "preds=clusters.fit_predict(customers_scale)\n",
    "\n",
    "\n",
    "\n",
    "dict(zip(customers.columns, clusters.cluster_centers_[0]))\n",
    "\n"
   ]
  },
  {
   "cell_type": "code",
   "execution_count": 257,
   "metadata": {},
   "outputs": [
    {
     "data": {
      "text/plain": [
       "5    110\n",
       "3     55\n",
       "1     49\n",
       "4     44\n",
       "2     40\n",
       "0     34\n",
       "Name: labels, dtype: int64"
      ]
     },
     "execution_count": 257,
     "metadata": {},
     "output_type": "execute_result"
    }
   ],
   "source": [
    "customers.labels.value_counts()"
   ]
  },
  {
   "cell_type": "markdown",
   "metadata": {},
   "source": [
    "**Your comment here**\n",
    "\n",
    "Segun puedo ver, 2 clusters parecen funcionar mejor."
   ]
  },
  {
   "cell_type": "markdown",
   "metadata": {},
   "source": [
    "# Bonus Challenge 3 - Changing DBSCAN `eps` and `min_samples`\n",
    "\n",
    "Experiment changing the `eps` and `min_samples` params for DBSCAN. See how the results differ with scatter plot visualization."
   ]
  },
  {
   "cell_type": "code",
   "execution_count": 259,
   "metadata": {},
   "outputs": [
    {
     "data": {
      "text/plain": [
       "-1    291\n",
       " 0     37\n",
       " 1      4\n",
       "Name: labels_DBSCAN, dtype: int64"
      ]
     },
     "execution_count": 259,
     "metadata": {},
     "output_type": "execute_result"
    }
   ],
   "source": [
    "dbscan=DBSCAN(eps=2.5)\n",
    "\n",
    "pred_deb=dbscan.fit(customers_scale).labels_\n",
    "\n",
    "customers['labels_DBSCAN'].value_counts()"
   ]
  },
  {
   "cell_type": "markdown",
   "metadata": {},
   "source": [
    "**Your comment here**\n",
    "\n",
    "+ El número de cluster es correcto del principio de 6 aunque elbow pone que son 5\n",
    "+ El DBSCAN no funciona correctamente y no se modifica demasiado al modificar parametros\n",
    "\n"
   ]
  }
 ],
 "metadata": {
  "kernelspec": {
   "display_name": "Python 3.9.12 ('base')",
   "language": "python",
   "name": "python3"
  },
  "language_info": {
   "codemirror_mode": {
    "name": "ipython",
    "version": 3
   },
   "file_extension": ".py",
   "mimetype": "text/x-python",
   "name": "python",
   "nbconvert_exporter": "python",
   "pygments_lexer": "ipython3",
   "version": "3.9.12"
  },
  "toc": {
   "base_numbering": 1,
   "nav_menu": {},
   "number_sections": true,
   "sideBar": true,
   "skip_h1_title": false,
   "title_cell": "Table of Contents",
   "title_sidebar": "Contents",
   "toc_cell": true,
   "toc_position": {},
   "toc_section_display": true,
   "toc_window_display": false
  },
  "varInspector": {
   "cols": {
    "lenName": 16,
    "lenType": 16,
    "lenVar": 40
   },
   "kernels_config": {
    "python": {
     "delete_cmd_postfix": "",
     "delete_cmd_prefix": "del ",
     "library": "var_list.py",
     "varRefreshCmd": "print(var_dic_list())"
    },
    "r": {
     "delete_cmd_postfix": ") ",
     "delete_cmd_prefix": "rm(",
     "library": "var_list.r",
     "varRefreshCmd": "cat(var_dic_list()) "
    }
   },
   "types_to_exclude": [
    "module",
    "function",
    "builtin_function_or_method",
    "instance",
    "_Feature"
   ],
   "window_display": false
  },
  "vscode": {
   "interpreter": {
    "hash": "1551151381e773f0aad4d7f5dd85d557969b09f98d8f1647db122078155b292b"
   }
  }
 },
 "nbformat": 4,
 "nbformat_minor": 2
}
